{
 "cells": [
  {
   "cell_type": "code",
   "execution_count": 1,
   "id": "263f9761",
   "metadata": {},
   "outputs": [],
   "source": [
    "import pandas as pd\n",
    "import numpy as np\n",
    "import lightgbm as lgb\n",
    "from sklearn.metrics import classification_report, confusion_matrix\n",
    "from sklearn.model_selection import train_test_split\n",
    "from datetime import datetime\n",
    "from sklearn.metrics import accuracy_score, precision_score, recall_score, f1_score"
   ]
  },
  {
   "cell_type": "code",
   "execution_count": 2,
   "id": "f029f3a3",
   "metadata": {},
   "outputs": [],
   "source": [
    "data = pd.read_csv('data_202512.csv', low_memory=False, encoding='ISO-8859-1')"
   ]
  },
  {
   "cell_type": "code",
   "execution_count": 3,
   "id": "9505b5d2",
   "metadata": {},
   "outputs": [
    {
     "data": {
      "application/vnd.microsoft.datawrangler.viewer.v0+json": {
       "columns": [
        {
         "name": "index",
         "rawType": "int64",
         "type": "integer"
        },
        {
         "name": "STUDENT_NUMBER",
         "rawType": "int64",
         "type": "integer"
        },
        {
         "name": "STUDENT_NAME",
         "rawType": "object",
         "type": "string"
        },
        {
         "name": "GENDER",
         "rawType": "object",
         "type": "string"
        },
        {
         "name": "HOME_LANGUAGE",
         "rawType": "object",
         "type": "string"
        },
        {
         "name": "LANGUAGE_NAME",
         "rawType": "object",
         "type": "string"
        },
        {
         "name": "ETHNIC_GROUP_NAME",
         "rawType": "object",
         "type": "string"
        },
        {
         "name": "STATS_ETHNIC_GROUP",
         "rawType": "object",
         "type": "string"
        },
        {
         "name": "BIRTHDATE",
         "rawType": "object",
         "type": "string"
        },
        {
         "name": "STUDENT_TYPE",
         "rawType": "object",
         "type": "string"
        },
        {
         "name": "QUALIFICATION_CODE",
         "rawType": "object",
         "type": "string"
        },
        {
         "name": "QUALIFICATION_NAME",
         "rawType": "object",
         "type": "string"
        },
        {
         "name": "FTEN_STATUS_THIS_YEAR",
         "rawType": "object",
         "type": "string"
        },
        {
         "name": "DEPARTMENT_NAME",
         "rawType": "object",
         "type": "string"
        },
        {
         "name": "FACULTY_SCHOOL_NAME",
         "rawType": "object",
         "type": "string"
        },
        {
         "name": "OFFERING_TYPE_CODE",
         "rawType": "object",
         "type": "string"
        },
        {
         "name": "OFFERING_TYPE",
         "rawType": "object",
         "type": "string"
        },
        {
         "name": "CAMPUS_NAME",
         "rawType": "object",
         "type": "string"
        },
        {
         "name": "ACADEMIC_YEAR",
         "rawType": "int64",
         "type": "integer"
        },
        {
         "name": "QUALIFICATION_TYPE",
         "rawType": "object",
         "type": "string"
        },
        {
         "name": "NATIONAL_LEVEL_DESC",
         "rawType": "object",
         "type": "string"
        },
        {
         "name": "SECONDARY_SCHOOL",
         "rawType": "object",
         "type": "string"
        },
        {
         "name": "SECONDARY_SCHOOL_NAME",
         "rawType": "object",
         "type": "string"
        },
        {
         "name": "TRANSACTION_DATE",
         "rawType": "object",
         "type": "string"
        },
        {
         "name": "TITLE",
         "rawType": "object",
         "type": "string"
        },
        {
         "name": "INITIALS",
         "rawType": "object",
         "type": "string"
        },
        {
         "name": "FIRST_NAMES",
         "rawType": "object",
         "type": "string"
        },
        {
         "name": "SURNAME",
         "rawType": "object",
         "type": "string"
        },
        {
         "name": "RESULT_DESCRIPTION",
         "rawType": "object",
         "type": "string"
        },
        {
         "name": "PASS_FAIL",
         "rawType": "object",
         "type": "string"
        },
        {
         "name": "MARITAL_STATUS",
         "rawType": "object",
         "type": "string"
        },
        {
         "name": "MATRIC_TYPE_DESCRIPTION",
         "rawType": "object",
         "type": "string"
        },
        {
         "name": "STUDENT_FOUNDATION",
         "rawType": "object",
         "type": "string"
        },
        {
         "name": "STUDENT_EMAIL",
         "rawType": "object",
         "type": "string"
        },
        {
         "name": "SUCCESS",
         "rawType": "int64",
         "type": "integer"
        },
        {
         "name": "AMOUNT_AWARDED",
         "rawType": "float64",
         "type": "float"
        },
        {
         "name": "NSFAS_BURSARY_Y_N",
         "rawType": "object",
         "type": "string"
        },
        {
         "name": "NUMBER_MATRIC_SUBJECTS",
         "rawType": "int64",
         "type": "integer"
        },
        {
         "name": "MATRIC_SYMBOL",
         "rawType": "float64",
         "type": "float"
        },
        {
         "name": "MATRIC_RATIO",
         "rawType": "float64",
         "type": "float"
        },
        {
         "name": "RESIDENCE",
         "rawType": "object",
         "type": "unknown"
        },
        {
         "name": "EXAM_MARK",
         "rawType": "float64",
         "type": "float"
        },
        {
         "name": "FINAL_MARK",
         "rawType": "float64",
         "type": "float"
        },
        {
         "name": "TEST_MARK",
         "rawType": "float64",
         "type": "float"
        }
       ],
       "conversionMethod": "pd.DataFrame",
       "ref": "1d5d3fb8-15de-4501-ac58-94abe3bd6d4f",
       "rows": [
        [
         "0",
         "222193913",
         "MISS LL MTEMBU",
         "F",
         "K",
         "XHOSA",
         "BLACK",
         "AFRICAN",
         "2004-10-02 00:00:00.0000000",
         "N",
         "WS5585",
         "B.Ed in SP & FET (Languages)",
         "First Time Entering",
         "Humanities & Creative Arts Edu",
         "Educational Sciences",
         "NF",
         "MTHATHA-NMD-Drive-Fulltime",
         "Mthatha Campus",
         "2022",
         "Bachelors Degree (480 - NQF 7)",
         "Diplomas",
         "9339",
         "CHIEF DUMILE SENIOR SECONDARY SCHOOL",
         "2022-03-14 00:00:00.0000000",
         "MISS",
         "LL",
         "LIHLE LILITA",
         "MTEMBU",
         "PROMOTE TO NEXT STUDY PERIOD",
         "P",
         "S",
         "NSC - DEGREE ENDORSEMENT",
         "N",
         "222193913@wsu.ac.za",
         "1",
         "4400.0",
         "N",
         "7",
         "32.0",
         "0.21875",
         null,
         "49.142857142857146",
         "57.6",
         "54.31481481481482"
        ],
        [
         "1",
         "220208328",
         "MS KL KHOHLISO",
         "F",
         "K",
         "XHOSA",
         "BLACK",
         "AFRICAN",
         "1999-11-12 00:00:00.0000000",
         "N",
         "WS7050",
         "Dip in Sport Management",
         "First Time Entering",
         "Tourism, Hosp.& Sports Mgnt",
         "Business Sciences",
         "SF",
         "BCC-College Street Full-time",
         "Buffalo City Campus",
         "2022",
         "Diploma (360)",
         "University Higher Certificate",
         "9828",
         "LUTUKA HIGH SCHOOL",
         "2022-03-14 00:00:00.0000000",
         "MS",
         "KL",
         "LUKHO",
         "KHOHLISO",
         "Repeat Same Level",
         "F",
         "S",
         "NSC - DIPLOMA ENDORSEMENT",
         "N",
         "220208328@wsu.ac.za",
         "0",
         "69600.0",
         "Y",
         "7",
         "26.0",
         "0.2692307692307692",
         "CONNISTON COURT",
         "32.0",
         "44.0",
         "51.260000000000005"
        ],
        [
         "2",
         "221523715",
         "MR L VININDWA",
         "M",
         "K",
         "XHOSA",
         "BLACK",
         "AFRICAN",
         "1993-10-10 00:00:00.0000000",
         "N",
         "WS5046",
         "Dip in Hospitality Management",
         "Non Entering",
         "Admin & Hospitality Management",
         "Commerce and Administration",
         "ZF",
         "MTHATHA-ZMK-Site-Fulltime",
         "Mthatha Campus",
         "2022",
         "Diploma (360)",
         "University Higher Certificate",
         "9336",
         "TUTOR NDAMASE SENIOR SECONDARY SCHOOL",
         "2022-03-14 00:00:00.0000000",
         "MR",
         "L",
         "LUZUKO",
         "VININDWA",
         "Repeat Same Level",
         "F",
         "S",
         "NSC - DEGREE ENDORSEMENT",
         "N",
         "221523715@wsu.ac.za",
         "0",
         "10854.0",
         "N",
         "7",
         "36.0",
         "0.1944444444444444",
         null,
         "0.0",
         "11.333333333333334",
         "15.0"
        ]
       ],
       "shape": {
        "columns": 43,
        "rows": 3
       }
      },
      "text/html": [
       "<div>\n",
       "<style scoped>\n",
       "    .dataframe tbody tr th:only-of-type {\n",
       "        vertical-align: middle;\n",
       "    }\n",
       "\n",
       "    .dataframe tbody tr th {\n",
       "        vertical-align: top;\n",
       "    }\n",
       "\n",
       "    .dataframe thead th {\n",
       "        text-align: right;\n",
       "    }\n",
       "</style>\n",
       "<table border=\"1\" class=\"dataframe\">\n",
       "  <thead>\n",
       "    <tr style=\"text-align: right;\">\n",
       "      <th></th>\n",
       "      <th>STUDENT_NUMBER</th>\n",
       "      <th>STUDENT_NAME</th>\n",
       "      <th>GENDER</th>\n",
       "      <th>HOME_LANGUAGE</th>\n",
       "      <th>LANGUAGE_NAME</th>\n",
       "      <th>ETHNIC_GROUP_NAME</th>\n",
       "      <th>STATS_ETHNIC_GROUP</th>\n",
       "      <th>BIRTHDATE</th>\n",
       "      <th>STUDENT_TYPE</th>\n",
       "      <th>QUALIFICATION_CODE</th>\n",
       "      <th>...</th>\n",
       "      <th>SUCCESS</th>\n",
       "      <th>AMOUNT_AWARDED</th>\n",
       "      <th>NSFAS_BURSARY_Y_N</th>\n",
       "      <th>NUMBER_MATRIC_SUBJECTS</th>\n",
       "      <th>MATRIC_SYMBOL</th>\n",
       "      <th>MATRIC_RATIO</th>\n",
       "      <th>RESIDENCE</th>\n",
       "      <th>EXAM_MARK</th>\n",
       "      <th>FINAL_MARK</th>\n",
       "      <th>TEST_MARK</th>\n",
       "    </tr>\n",
       "  </thead>\n",
       "  <tbody>\n",
       "    <tr>\n",
       "      <th>0</th>\n",
       "      <td>222193913</td>\n",
       "      <td>MISS LL MTEMBU</td>\n",
       "      <td>F</td>\n",
       "      <td>K</td>\n",
       "      <td>XHOSA</td>\n",
       "      <td>BLACK</td>\n",
       "      <td>AFRICAN</td>\n",
       "      <td>2004-10-02 00:00:00.0000000</td>\n",
       "      <td>N</td>\n",
       "      <td>WS5585</td>\n",
       "      <td>...</td>\n",
       "      <td>1</td>\n",
       "      <td>4400.0</td>\n",
       "      <td>N</td>\n",
       "      <td>7</td>\n",
       "      <td>32.0</td>\n",
       "      <td>0.218750</td>\n",
       "      <td>NaN</td>\n",
       "      <td>49.142857</td>\n",
       "      <td>57.600000</td>\n",
       "      <td>54.314815</td>\n",
       "    </tr>\n",
       "    <tr>\n",
       "      <th>1</th>\n",
       "      <td>220208328</td>\n",
       "      <td>MS KL KHOHLISO</td>\n",
       "      <td>F</td>\n",
       "      <td>K</td>\n",
       "      <td>XHOSA</td>\n",
       "      <td>BLACK</td>\n",
       "      <td>AFRICAN</td>\n",
       "      <td>1999-11-12 00:00:00.0000000</td>\n",
       "      <td>N</td>\n",
       "      <td>WS7050</td>\n",
       "      <td>...</td>\n",
       "      <td>0</td>\n",
       "      <td>69600.0</td>\n",
       "      <td>Y</td>\n",
       "      <td>7</td>\n",
       "      <td>26.0</td>\n",
       "      <td>0.269231</td>\n",
       "      <td>CONNISTON COURT</td>\n",
       "      <td>32.000000</td>\n",
       "      <td>44.000000</td>\n",
       "      <td>51.260000</td>\n",
       "    </tr>\n",
       "    <tr>\n",
       "      <th>2</th>\n",
       "      <td>221523715</td>\n",
       "      <td>MR L VININDWA</td>\n",
       "      <td>M</td>\n",
       "      <td>K</td>\n",
       "      <td>XHOSA</td>\n",
       "      <td>BLACK</td>\n",
       "      <td>AFRICAN</td>\n",
       "      <td>1993-10-10 00:00:00.0000000</td>\n",
       "      <td>N</td>\n",
       "      <td>WS5046</td>\n",
       "      <td>...</td>\n",
       "      <td>0</td>\n",
       "      <td>10854.0</td>\n",
       "      <td>N</td>\n",
       "      <td>7</td>\n",
       "      <td>36.0</td>\n",
       "      <td>0.194444</td>\n",
       "      <td>NaN</td>\n",
       "      <td>0.000000</td>\n",
       "      <td>11.333333</td>\n",
       "      <td>15.000000</td>\n",
       "    </tr>\n",
       "  </tbody>\n",
       "</table>\n",
       "<p>3 rows × 43 columns</p>\n",
       "</div>"
      ],
      "text/plain": [
       "   STUDENT_NUMBER    STUDENT_NAME GENDER HOME_LANGUAGE LANGUAGE_NAME  \\\n",
       "0       222193913  MISS LL MTEMBU      F             K         XHOSA   \n",
       "1       220208328  MS KL KHOHLISO      F             K         XHOSA   \n",
       "2       221523715   MR L VININDWA      M             K         XHOSA   \n",
       "\n",
       "  ETHNIC_GROUP_NAME STATS_ETHNIC_GROUP                    BIRTHDATE  \\\n",
       "0             BLACK            AFRICAN  2004-10-02 00:00:00.0000000   \n",
       "1             BLACK            AFRICAN  1999-11-12 00:00:00.0000000   \n",
       "2             BLACK            AFRICAN  1993-10-10 00:00:00.0000000   \n",
       "\n",
       "  STUDENT_TYPE QUALIFICATION_CODE  ... SUCCESS AMOUNT_AWARDED  \\\n",
       "0            N             WS5585  ...       1         4400.0   \n",
       "1            N             WS7050  ...       0        69600.0   \n",
       "2            N             WS5046  ...       0        10854.0   \n",
       "\n",
       "  NSFAS_BURSARY_Y_N NUMBER_MATRIC_SUBJECTS MATRIC_SYMBOL MATRIC_RATIO  \\\n",
       "0                 N                      7          32.0     0.218750   \n",
       "1                 Y                      7          26.0     0.269231   \n",
       "2                 N                      7          36.0     0.194444   \n",
       "\n",
       "         RESIDENCE  EXAM_MARK FINAL_MARK  TEST_MARK  \n",
       "0              NaN  49.142857  57.600000  54.314815  \n",
       "1  CONNISTON COURT  32.000000  44.000000  51.260000  \n",
       "2              NaN   0.000000  11.333333  15.000000  \n",
       "\n",
       "[3 rows x 43 columns]"
      ]
     },
     "execution_count": 3,
     "metadata": {},
     "output_type": "execute_result"
    }
   ],
   "source": [
    "data.head(3)"
   ]
  },
  {
   "cell_type": "code",
   "execution_count": 4,
   "id": "6b1f49b6",
   "metadata": {},
   "outputs": [
    {
     "name": "stdout",
     "output_type": "stream",
     "text": [
      "<class 'pandas.core.frame.DataFrame'>\n",
      "RangeIndex: 88847 entries, 0 to 88846\n",
      "Data columns (total 42 columns):\n",
      " #   Column                   Non-Null Count  Dtype  \n",
      "---  ------                   --------------  -----  \n",
      " 0   STUDENT_NUMBER           88847 non-null  int64  \n",
      " 1   STUDENT_NAME             88847 non-null  object \n",
      " 2   GENDER                   88847 non-null  object \n",
      " 3   LANGUAGE_NAME            88847 non-null  object \n",
      " 4   ETHNIC_GROUP_NAME        88847 non-null  object \n",
      " 5   STATS_ETHNIC_GROUP       88847 non-null  object \n",
      " 6   BIRTHDATE                88847 non-null  object \n",
      " 7   STUDENT_TYPE             88847 non-null  object \n",
      " 8   QUALIFICATION_CODE       88847 non-null  object \n",
      " 9   QUALIFICATION_NAME       88847 non-null  object \n",
      " 10  FTEN_STATUS_THIS_YEAR    88847 non-null  object \n",
      " 11  DEPARTMENT_NAME          88847 non-null  object \n",
      " 12  FACULTY_SCHOOL_NAME      88847 non-null  object \n",
      " 13  OFFERING_TYPE_CODE       88847 non-null  object \n",
      " 14  OFFERING_TYPE            88847 non-null  object \n",
      " 15  CAMPUS_NAME              88847 non-null  object \n",
      " 16  ACADEMIC_YEAR            88847 non-null  int64  \n",
      " 17  QUALIFICATION_TYPE       88847 non-null  object \n",
      " 18  NATIONAL_LEVEL_DESC      88847 non-null  object \n",
      " 19  SECONDARY_SCHOOL         85859 non-null  object \n",
      " 20  SECONDARY_SCHOOL_NAME    85390 non-null  object \n",
      " 21  TRANSACTION_DATE         88847 non-null  object \n",
      " 22  TITLE                    88840 non-null  object \n",
      " 23  INITIALS                 88676 non-null  object \n",
      " 24  FIRST_NAMES              88847 non-null  object \n",
      " 25  SURNAME                  88847 non-null  object \n",
      " 26  RESULT_DESCRIPTION       88847 non-null  object \n",
      " 27  PASS_FAIL                88847 non-null  object \n",
      " 28  MARITAL_STATUS           84298 non-null  object \n",
      " 29  MATRIC_TYPE_DESCRIPTION  88844 non-null  object \n",
      " 30  STUDENT_FOUNDATION       88847 non-null  object \n",
      " 31  SUCCESS                  88847 non-null  int64  \n",
      " 32  AMOUNT_AWARDED           88847 non-null  float64\n",
      " 33  NSFAS_BURSARY_Y_N        88847 non-null  object \n",
      " 34  NUMBER_MATRIC_SUBJECTS   88847 non-null  int64  \n",
      " 35  MATRIC_SYMBOL            87895 non-null  float64\n",
      " 36  MATRIC_RATIO             87895 non-null  float64\n",
      " 37  RESIDENCE                71753 non-null  object \n",
      " 38  SUBJECT_PASSED           88847 non-null  int64  \n",
      " 39  SUBJECT_FAILED           88847 non-null  int64  \n",
      " 40  FINAL_MARK               88847 non-null  float64\n",
      " 41  SUBJECT_NAME             88847 non-null  int64  \n",
      "dtypes: float64(4), int64(7), object(31)\n",
      "memory usage: 28.5+ MB\n"
     ]
    }
   ],
   "source": [
    "data.info()"
   ]
  },
  {
   "cell_type": "code",
   "execution_count": 4,
   "id": "71a1d9bb",
   "metadata": {},
   "outputs": [
    {
     "data": {
      "text/plain": [
       "PASS_FAIL\n",
       "P    81245\n",
       "F    23721\n",
       "Name: count, dtype: int64"
      ]
     },
     "execution_count": 4,
     "metadata": {},
     "output_type": "execute_result"
    }
   ],
   "source": [
    "data.PASS_FAIL.value_counts()"
   ]
  },
  {
   "cell_type": "code",
   "execution_count": 5,
   "id": "6e938c7c",
   "metadata": {},
   "outputs": [
    {
     "data": {
      "text/plain": [
       "LANGUAGE_NAME\n",
       "XHOSA                     88689\n",
       "ZULU                       8851\n",
       "SOTHO(SOUTH)               1932\n",
       "ENGLISH                    1283\n",
       "SOTHO(NORTH)               1173\n",
       "TSONGA                      752\n",
       "SWATI                       614\n",
       "TSWANA                      558\n",
       "VENDA                       528\n",
       "OTHER AFRICAN LANGUAGE      247\n",
       "NDEBELE                     189\n",
       "AFRIKAANS                    78\n",
       "AFRIKAANS/ENGLISH            60\n",
       "SIGN LANGUAGE                 9\n",
       "INDIAN                        2\n",
       "EUROPEAN LANGUAGE             1\n",
       "Name: count, dtype: int64"
      ]
     },
     "execution_count": 5,
     "metadata": {},
     "output_type": "execute_result"
    }
   ],
   "source": [
    "data.LANGUAGE_NAME.value_counts()"
   ]
  },
  {
   "cell_type": "code",
   "execution_count": 6,
   "id": "1fb1ecf6",
   "metadata": {},
   "outputs": [
    {
     "data": {
      "text/plain": [
       "NSFAS_BURSARY_Y_N\n",
       "Y    90522\n",
       "N     3371\n",
       "Name: count, dtype: int64"
      ]
     },
     "execution_count": 6,
     "metadata": {},
     "output_type": "execute_result"
    }
   ],
   "source": [
    "data.NSFAS_BURSARY_Y_N.value_counts()"
   ]
  },
  {
   "cell_type": "code",
   "execution_count": 7,
   "id": "2e3a9e39",
   "metadata": {},
   "outputs": [
    {
     "data": {
      "text/plain": [
       "CAMPUS_NAME\n",
       "Mthatha Campus         47173\n",
       "Buffalo City Campus    22740\n",
       "Butterworth Campus     21546\n",
       "Queenstown Campus      13507\n",
       "Name: count, dtype: int64"
      ]
     },
     "execution_count": 7,
     "metadata": {},
     "output_type": "execute_result"
    }
   ],
   "source": [
    "data.CAMPUS_NAME.value_counts()"
   ]
  },
  {
   "cell_type": "code",
   "execution_count": 10,
   "id": "4e3c5359",
   "metadata": {},
   "outputs": [
    {
     "data": {
      "text/plain": [
       "NATIONAL_LEVEL_DESC\n",
       "University Higher Certificate                    51478\n",
       "Diplomas                                         43154\n",
       "Professional Qualifications                       9270\n",
       "National Certificates and Occupational Awards     1064\n",
       "Name: count, dtype: int64"
      ]
     },
     "execution_count": 10,
     "metadata": {},
     "output_type": "execute_result"
    }
   ],
   "source": [
    "data.NATIONAL_LEVEL_DESC.value_counts()"
   ]
  },
  {
   "cell_type": "code",
   "execution_count": 8,
   "id": "4ccd6e66",
   "metadata": {},
   "outputs": [
    {
     "data": {
      "text/plain": [
       "FTEN_STATUS_THIS_YEAR\n",
       "Non Entering           66586\n",
       "First Time Entering    28318\n",
       "Entering                8872\n",
       "Transfer                1190\n",
       "Name: count, dtype: int64"
      ]
     },
     "execution_count": 8,
     "metadata": {},
     "output_type": "execute_result"
    }
   ],
   "source": [
    "data.FTEN_STATUS_THIS_YEAR.value_counts()"
   ]
  },
  {
   "cell_type": "code",
   "execution_count": 9,
   "id": "3b45743c",
   "metadata": {},
   "outputs": [
    {
     "ename": "AttributeError",
     "evalue": "'DataFrame' object has no attribute 'Rural_Urban'",
     "output_type": "error",
     "traceback": [
      "\u001b[31m---------------------------------------------------------------------------\u001b[39m",
      "\u001b[31mAttributeError\u001b[39m                            Traceback (most recent call last)",
      "\u001b[32m~\\AppData\\Local\\Temp\\3\\ipykernel_8476\\3829092547.py\u001b[39m in \u001b[36m?\u001b[39m\u001b[34m()\u001b[39m\n\u001b[32m----> \u001b[39m\u001b[32m1\u001b[39m data.Rural_Urban.value_counts()\n",
      "\u001b[32mc:\\Users\\smmakola\\AppData\\Local\\Programs\\Python\\Python313\\Lib\\site-packages\\pandas\\core\\generic.py\u001b[39m in \u001b[36m?\u001b[39m\u001b[34m(self, name)\u001b[39m\n\u001b[32m   6295\u001b[39m             \u001b[38;5;28;01mand\u001b[39;00m name \u001b[38;5;28;01mnot\u001b[39;00m \u001b[38;5;28;01min\u001b[39;00m self._accessors\n\u001b[32m   6296\u001b[39m             \u001b[38;5;28;01mand\u001b[39;00m self._info_axis._can_hold_identifiers_and_holds_name(name)\n\u001b[32m   6297\u001b[39m         ):\n\u001b[32m   6298\u001b[39m             \u001b[38;5;28;01mreturn\u001b[39;00m self[name]\n\u001b[32m-> \u001b[39m\u001b[32m6299\u001b[39m         \u001b[38;5;28;01mreturn\u001b[39;00m object.__getattribute__(self, name)\n",
      "\u001b[31mAttributeError\u001b[39m: 'DataFrame' object has no attribute 'Rural_Urban'"
     ]
    }
   ],
   "source": [
    "data.Rural_Urban.value_counts()"
   ]
  },
  {
   "cell_type": "code",
   "execution_count": 11,
   "id": "7df59732",
   "metadata": {},
   "outputs": [
    {
     "data": {
      "application/vnd.microsoft.datawrangler.viewer.v0+json": {
       "columns": [
        {
         "name": "index",
         "rawType": "int64",
         "type": "integer"
        },
        {
         "name": "ACADEMIC_YEAR",
         "rawType": "int64",
         "type": "integer"
        },
        {
         "name": "SUCCESS",
         "rawType": "float64",
         "type": "float"
        }
       ],
       "conversionMethod": "pd.DataFrame",
       "ref": "374d22e9-6eb0-445e-a873-ffc56838a73f",
       "rows": [
        [
         "0",
         "2021",
         "0.7960688880569076"
        ],
        [
         "3",
         "2024",
         "0.7832012443522702"
        ],
        [
         "1",
         "2022",
         "0.767128081499339"
        ],
        [
         "2",
         "2023",
         "0.7481594611528822"
        ]
       ],
       "shape": {
        "columns": 2,
        "rows": 4
       }
      },
      "text/html": [
       "<div>\n",
       "<style scoped>\n",
       "    .dataframe tbody tr th:only-of-type {\n",
       "        vertical-align: middle;\n",
       "    }\n",
       "\n",
       "    .dataframe tbody tr th {\n",
       "        vertical-align: top;\n",
       "    }\n",
       "\n",
       "    .dataframe thead th {\n",
       "        text-align: right;\n",
       "    }\n",
       "</style>\n",
       "<table border=\"1\" class=\"dataframe\">\n",
       "  <thead>\n",
       "    <tr style=\"text-align: right;\">\n",
       "      <th></th>\n",
       "      <th>ACADEMIC_YEAR</th>\n",
       "      <th>SUCCESS</th>\n",
       "    </tr>\n",
       "  </thead>\n",
       "  <tbody>\n",
       "    <tr>\n",
       "      <th>0</th>\n",
       "      <td>2021</td>\n",
       "      <td>0.796069</td>\n",
       "    </tr>\n",
       "    <tr>\n",
       "      <th>3</th>\n",
       "      <td>2024</td>\n",
       "      <td>0.783201</td>\n",
       "    </tr>\n",
       "    <tr>\n",
       "      <th>1</th>\n",
       "      <td>2022</td>\n",
       "      <td>0.767128</td>\n",
       "    </tr>\n",
       "    <tr>\n",
       "      <th>2</th>\n",
       "      <td>2023</td>\n",
       "      <td>0.748159</td>\n",
       "    </tr>\n",
       "  </tbody>\n",
       "</table>\n",
       "</div>"
      ],
      "text/plain": [
       "   ACADEMIC_YEAR   SUCCESS\n",
       "0           2021  0.796069\n",
       "3           2024  0.783201\n",
       "1           2022  0.767128\n",
       "2           2023  0.748159"
      ]
     },
     "execution_count": 11,
     "metadata": {},
     "output_type": "execute_result"
    }
   ],
   "source": [
    "data[[\"ACADEMIC_YEAR\", \"SUCCESS\"]].groupby(['ACADEMIC_YEAR'], as_index=False).mean().sort_values(by='SUCCESS', ascending=False)"
   ]
  },
  {
   "cell_type": "code",
   "execution_count": 12,
   "id": "1e922967",
   "metadata": {},
   "outputs": [
    {
     "data": {
      "application/vnd.microsoft.datawrangler.viewer.v0+json": {
       "columns": [
        {
         "name": "index",
         "rawType": "int64",
         "type": "integer"
        },
        {
         "name": "GENDER",
         "rawType": "object",
         "type": "string"
        },
        {
         "name": "SUCCESS",
         "rawType": "float64",
         "type": "float"
        }
       ],
       "conversionMethod": "pd.DataFrame",
       "ref": "ed835afa-38f7-4c4c-88fd-e5834bef35ff",
       "rows": [
        [
         "0",
         "F",
         "0.8201797877009607"
        ],
        [
         "1",
         "M",
         "0.7086469193767405"
        ]
       ],
       "shape": {
        "columns": 2,
        "rows": 2
       }
      },
      "text/html": [
       "<div>\n",
       "<style scoped>\n",
       "    .dataframe tbody tr th:only-of-type {\n",
       "        vertical-align: middle;\n",
       "    }\n",
       "\n",
       "    .dataframe tbody tr th {\n",
       "        vertical-align: top;\n",
       "    }\n",
       "\n",
       "    .dataframe thead th {\n",
       "        text-align: right;\n",
       "    }\n",
       "</style>\n",
       "<table border=\"1\" class=\"dataframe\">\n",
       "  <thead>\n",
       "    <tr style=\"text-align: right;\">\n",
       "      <th></th>\n",
       "      <th>GENDER</th>\n",
       "      <th>SUCCESS</th>\n",
       "    </tr>\n",
       "  </thead>\n",
       "  <tbody>\n",
       "    <tr>\n",
       "      <th>0</th>\n",
       "      <td>F</td>\n",
       "      <td>0.820180</td>\n",
       "    </tr>\n",
       "    <tr>\n",
       "      <th>1</th>\n",
       "      <td>M</td>\n",
       "      <td>0.708647</td>\n",
       "    </tr>\n",
       "  </tbody>\n",
       "</table>\n",
       "</div>"
      ],
      "text/plain": [
       "  GENDER   SUCCESS\n",
       "0      F  0.820180\n",
       "1      M  0.708647"
      ]
     },
     "execution_count": 12,
     "metadata": {},
     "output_type": "execute_result"
    }
   ],
   "source": [
    "data[[\"GENDER\", \"SUCCESS\"]].groupby(['GENDER'], as_index=False).mean().sort_values(by='SUCCESS', ascending=False)"
   ]
  },
  {
   "cell_type": "code",
   "execution_count": 13,
   "id": "cdf445c2",
   "metadata": {},
   "outputs": [
    {
     "data": {
      "application/vnd.microsoft.datawrangler.viewer.v0+json": {
       "columns": [
        {
         "name": "index",
         "rawType": "int64",
         "type": "integer"
        },
        {
         "name": "CAMPUS_NAME",
         "rawType": "object",
         "type": "string"
        },
        {
         "name": "SUCCESS",
         "rawType": "float64",
         "type": "float"
        }
       ],
       "conversionMethod": "pd.DataFrame",
       "ref": "55fadc7b-5bf4-4058-a042-9ccf5ddbf39e",
       "rows": [
        [
         "3",
         "Queenstown Campus",
         "0.8268305323165765"
        ],
        [
         "2",
         "Mthatha Campus",
         "0.8109723782672291"
        ],
        [
         "1",
         "Butterworth Campus",
         "0.7479346514434234"
        ],
        [
         "0",
         "Buffalo City Campus",
         "0.6906772207563764"
        ]
       ],
       "shape": {
        "columns": 2,
        "rows": 4
       }
      },
      "text/html": [
       "<div>\n",
       "<style scoped>\n",
       "    .dataframe tbody tr th:only-of-type {\n",
       "        vertical-align: middle;\n",
       "    }\n",
       "\n",
       "    .dataframe tbody tr th {\n",
       "        vertical-align: top;\n",
       "    }\n",
       "\n",
       "    .dataframe thead th {\n",
       "        text-align: right;\n",
       "    }\n",
       "</style>\n",
       "<table border=\"1\" class=\"dataframe\">\n",
       "  <thead>\n",
       "    <tr style=\"text-align: right;\">\n",
       "      <th></th>\n",
       "      <th>CAMPUS_NAME</th>\n",
       "      <th>SUCCESS</th>\n",
       "    </tr>\n",
       "  </thead>\n",
       "  <tbody>\n",
       "    <tr>\n",
       "      <th>3</th>\n",
       "      <td>Queenstown Campus</td>\n",
       "      <td>0.826831</td>\n",
       "    </tr>\n",
       "    <tr>\n",
       "      <th>2</th>\n",
       "      <td>Mthatha Campus</td>\n",
       "      <td>0.810972</td>\n",
       "    </tr>\n",
       "    <tr>\n",
       "      <th>1</th>\n",
       "      <td>Butterworth Campus</td>\n",
       "      <td>0.747935</td>\n",
       "    </tr>\n",
       "    <tr>\n",
       "      <th>0</th>\n",
       "      <td>Buffalo City Campus</td>\n",
       "      <td>0.690677</td>\n",
       "    </tr>\n",
       "  </tbody>\n",
       "</table>\n",
       "</div>"
      ],
      "text/plain": [
       "           CAMPUS_NAME   SUCCESS\n",
       "3    Queenstown Campus  0.826831\n",
       "2       Mthatha Campus  0.810972\n",
       "1   Butterworth Campus  0.747935\n",
       "0  Buffalo City Campus  0.690677"
      ]
     },
     "execution_count": 13,
     "metadata": {},
     "output_type": "execute_result"
    }
   ],
   "source": [
    "data[[\"CAMPUS_NAME\", \"SUCCESS\"]].groupby(['CAMPUS_NAME'], as_index=False).mean().sort_values(by='SUCCESS', ascending=False)"
   ]
  },
  {
   "cell_type": "code",
   "execution_count": 14,
   "id": "77f4cb1d",
   "metadata": {},
   "outputs": [
    {
     "data": {
      "application/vnd.microsoft.datawrangler.viewer.v0+json": {
       "columns": [
        {
         "name": "index",
         "rawType": "int64",
         "type": "integer"
        },
        {
         "name": "NSFAS_BURSARY_Y_N",
         "rawType": "object",
         "type": "string"
        },
        {
         "name": "SUCCESS",
         "rawType": "float64",
         "type": "float"
        }
       ],
       "conversionMethod": "pd.DataFrame",
       "ref": "e1bd682f-7dac-42c5-9beb-d2f62919c052",
       "rows": [
        [
         "1",
         "Y",
         "0.7909568944565962"
        ],
        [
         "0",
         "N",
         "0.7178878671017502"
        ]
       ],
       "shape": {
        "columns": 2,
        "rows": 2
       }
      },
      "text/html": [
       "<div>\n",
       "<style scoped>\n",
       "    .dataframe tbody tr th:only-of-type {\n",
       "        vertical-align: middle;\n",
       "    }\n",
       "\n",
       "    .dataframe tbody tr th {\n",
       "        vertical-align: top;\n",
       "    }\n",
       "\n",
       "    .dataframe thead th {\n",
       "        text-align: right;\n",
       "    }\n",
       "</style>\n",
       "<table border=\"1\" class=\"dataframe\">\n",
       "  <thead>\n",
       "    <tr style=\"text-align: right;\">\n",
       "      <th></th>\n",
       "      <th>NSFAS_BURSARY_Y_N</th>\n",
       "      <th>SUCCESS</th>\n",
       "    </tr>\n",
       "  </thead>\n",
       "  <tbody>\n",
       "    <tr>\n",
       "      <th>1</th>\n",
       "      <td>Y</td>\n",
       "      <td>0.790957</td>\n",
       "    </tr>\n",
       "    <tr>\n",
       "      <th>0</th>\n",
       "      <td>N</td>\n",
       "      <td>0.717888</td>\n",
       "    </tr>\n",
       "  </tbody>\n",
       "</table>\n",
       "</div>"
      ],
      "text/plain": [
       "  NSFAS_BURSARY_Y_N   SUCCESS\n",
       "1                 Y  0.790957\n",
       "0                 N  0.717888"
      ]
     },
     "execution_count": 14,
     "metadata": {},
     "output_type": "execute_result"
    }
   ],
   "source": [
    "data[[\"NSFAS_BURSARY_Y_N\", \"SUCCESS\"]].groupby(['NSFAS_BURSARY_Y_N'], as_index=False).mean().sort_values(by='SUCCESS', ascending=False)"
   ]
  },
  {
   "cell_type": "code",
   "execution_count": null,
   "id": "04013a0c",
   "metadata": {},
   "outputs": [],
   "source": []
  },
  {
   "cell_type": "markdown",
   "id": "47ba6331",
   "metadata": {},
   "source": [
    "# Compare Pass and Fail Rates Across Different Categories"
   ]
  },
  {
   "cell_type": "code",
   "execution_count": 15,
   "id": "f9d9874a",
   "metadata": {},
   "outputs": [
    {
     "name": "stdout",
     "output_type": "stream",
     "text": [
      "PASS_FAIL  Pass Rate  Fail Rate\n",
      "GENDER                         \n",
      "F           0.820180   0.179820\n",
      "M           0.708647   0.291353\n"
     ]
    },
    {
     "data": {
      "text/plain": [
       "<Figure size 1000x600 with 0 Axes>"
      ]
     },
     "metadata": {},
     "output_type": "display_data"
    },
    {
     "data": {
      "image/png": "[encoded data removed]",
      "text/plain": [
       "<Figure size 640x480 with 1 Axes>"
      ]
     },
     "metadata": {},
     "output_type": "display_data"
    }
   ],
   "source": [
    "import pandas as pd\n",
    "import matplotlib.pyplot as plt\n",
    "import seaborn as sns\n",
    "\n",
    "# Assuming data is already loaded into the 'data' DataFrame\n",
    "# Replace categorical_column with the column you want to analyze, e.g., 'GENDER', 'FACULTY_SCHOOL_NAME'\n",
    "categorical_column = 'GENDER'  # Example\n",
    "\n",
    "pass_fail_by_category = data.groupby([categorical_column, 'PASS_FAIL']).size().unstack()\n",
    "pass_fail_by_category['Total'] = pass_fail_by_category.sum(axis=1)\n",
    "pass_fail_by_category['Pass Rate'] = pass_fail_by_category['P'] / pass_fail_by_category['Total']\n",
    "pass_fail_by_category['Fail Rate'] = pass_fail_by_category['F'] / pass_fail_by_category['Total']\n",
    "\n",
    "print(pass_fail_by_category[['Pass Rate', 'Fail Rate']])\n",
    "\n",
    "# Visualizing the pass and fail rates\n",
    "plt.figure(figsize=(10, 6))\n",
    "pass_fail_by_category[['Pass Rate', 'Fail Rate']].plot(kind='bar', stacked=True)\n",
    "plt.title(f'Pass and Fail Rates by {categorical_column}')\n",
    "plt.ylabel('Rate')\n",
    "plt.show()\n"
   ]
  },
  {
   "cell_type": "markdown",
   "id": "cdb40843",
   "metadata": {},
   "source": [
    "# Explore the Relationship Between Student Performance and Other Variables"
   ]
  },
  {
   "cell_type": "markdown",
   "id": "55f278c3",
   "metadata": {},
   "source": [
    "# Statistical Tests"
   ]
  },
  {
   "cell_type": "code",
   "execution_count": 16,
   "id": "4c05f096",
   "metadata": {},
   "outputs": [
    {
     "name": "stdout",
     "output_type": "stream",
     "text": [
      "Chi-Squared Test for GENDER vs PASS_FAIL\n",
      "Chi-Squared Value: 1810.2841824936786\n",
      "P-Value: 0.0\n"
     ]
    }
   ],
   "source": [
    "from scipy.stats import chi2_contingency\n",
    "\n",
    "# Chi-squared test for a categorical variable against PASS_FAIL\n",
    "# Replace categorical_column with the column you want to test, e.g., 'GENDER'\n",
    "categorical_column = 'GENDER'  # Example\n",
    "\n",
    "contingency_table = pd.crosstab(data[categorical_column], data['PASS_FAIL'])\n",
    "chi2, p, dof, expected = chi2_contingency(contingency_table)\n",
    "\n",
    "print(f'Chi-Squared Test for {categorical_column} vs PASS_FAIL')\n",
    "print(f'Chi-Squared Value: {chi2}')\n",
    "print(f'P-Value: {p}')\n"
   ]
  },
  {
   "cell_type": "code",
   "execution_count": 17,
   "id": "b07656b6",
   "metadata": {},
   "outputs": [
    {
     "name": "stdout",
     "output_type": "stream",
     "text": [
      "<class 'pandas.core.frame.DataFrame'>\n",
      "RangeIndex: 104966 entries, 0 to 104965\n",
      "Data columns (total 43 columns):\n",
      " #   Column                   Non-Null Count   Dtype  \n",
      "---  ------                   --------------   -----  \n",
      " 0   STUDENT_NUMBER           104966 non-null  int64  \n",
      " 1   STUDENT_NAME             104966 non-null  object \n",
      " 2   GENDER                   104966 non-null  object \n",
      " 3   HOME_LANGUAGE            104966 non-null  object \n",
      " 4   LANGUAGE_NAME            104966 non-null  object \n",
      " 5   ETHNIC_GROUP_NAME        104965 non-null  object \n",
      " 6   STATS_ETHNIC_GROUP       104965 non-null  object \n",
      " 7   BIRTHDATE                104966 non-null  object \n",
      " 8   STUDENT_TYPE             104966 non-null  object \n",
      " 9   QUALIFICATION_CODE       104966 non-null  object \n",
      " 10  QUALIFICATION_NAME       104966 non-null  object \n",
      " 11  FTEN_STATUS_THIS_YEAR    104966 non-null  object \n",
      " 12  DEPARTMENT_NAME          104966 non-null  object \n",
      " 13  FACULTY_SCHOOL_NAME      104966 non-null  object \n",
      " 14  OFFERING_TYPE_CODE       104966 non-null  object \n",
      " 15  OFFERING_TYPE            104966 non-null  object \n",
      " 16  CAMPUS_NAME              104966 non-null  object \n",
      " 17  ACADEMIC_YEAR            104966 non-null  int64  \n",
      " 18  QUALIFICATION_TYPE       104966 non-null  object \n",
      " 19  NATIONAL_LEVEL_DESC      104966 non-null  object \n",
      " 20  SECONDARY_SCHOOL         101930 non-null  object \n",
      " 21  SECONDARY_SCHOOL_NAME    101446 non-null  object \n",
      " 22  TRANSACTION_DATE         104966 non-null  object \n",
      " 23  TITLE                    104964 non-null  object \n",
      " 24  INITIALS                 104746 non-null  object \n",
      " 25  FIRST_NAMES              104966 non-null  object \n",
      " 26  SURNAME                  104966 non-null  object \n",
      " 27  RESULT_DESCRIPTION       104966 non-null  object \n",
      " 28  PASS_FAIL                104966 non-null  object \n",
      " 29  MARITAL_STATUS           99839 non-null   object \n",
      " 30  MATRIC_TYPE_DESCRIPTION  104959 non-null  object \n",
      " 31  STUDENT_FOUNDATION       104966 non-null  object \n",
      " 32  STUDENT_EMAIL            104966 non-null  object \n",
      " 33  SUCCESS                  104966 non-null  int64  \n",
      " 34  AMOUNT_AWARDED           93893 non-null   float64\n",
      " 35  NSFAS_BURSARY_Y_N        93893 non-null   object \n",
      " 36  NUMBER_MATRIC_SUBJECTS   104966 non-null  int64  \n",
      " 37  MATRIC_SYMBOL            104154 non-null  float64\n",
      " 38  MATRIC_RATIO             104154 non-null  float64\n",
      " 39  RESIDENCE                79520 non-null   object \n",
      " 40  EXAM_MARK                84478 non-null   float64\n",
      " 41  FINAL_MARK               103332 non-null  float64\n",
      " 42  TEST_MARK                104017 non-null  float64\n",
      "dtypes: float64(6), int64(4), object(33)\n",
      "memory usage: 34.4+ MB\n"
     ]
    }
   ],
   "source": [
    "data.info()"
   ]
  },
  {
   "cell_type": "markdown",
   "id": "13003987",
   "metadata": {},
   "source": [
    "# DATA PREPROCESSING"
   ]
  },
  {
   "cell_type": "code",
   "execution_count": 18,
   "id": "3c9d1e73",
   "metadata": {},
   "outputs": [
    {
     "name": "stderr",
     "output_type": "stream",
     "text": [
      "C:\\Users\\smmakola\\AppData\\Local\\Temp\\3\\ipykernel_8476\\109492481.py:20: FutureWarning: A value is trying to be set on a copy of a DataFrame or Series through chained assignment using an inplace method.\n",
      "The behavior will change in pandas 3.0. This inplace method will never work because the intermediate object on which we are setting values always behaves as a copy.\n",
      "\n",
      "For example, when doing 'df[col].method(value, inplace=True)', try using 'df.method({col: value}, inplace=True)' or df[col] = df[col].method(value) instead, to perform the operation inplace on the original object.\n",
      "\n",
      "\n",
      "  data['AGE'].fillna(mean_age, inplace=True)\n",
      "C:\\Users\\smmakola\\AppData\\Local\\Temp\\3\\ipykernel_8476\\109492481.py:40: FutureWarning: A value is trying to be set on a copy of a DataFrame or Series through chained assignment using an inplace method.\n",
      "The behavior will change in pandas 3.0. This inplace method will never work because the intermediate object on which we are setting values always behaves as a copy.\n",
      "\n",
      "For example, when doing 'df[col].method(value, inplace=True)', try using 'df.method({col: value}, inplace=True)' or df[col] = df[col].method(value) instead, to perform the operation inplace on the original object.\n",
      "\n",
      "\n",
      "  data['STUDENT_FOUNDATION'].fillna(0, inplace=True)  # Assume missing means No Foundation\n"
     ]
    },
    {
     "name": "stdout",
     "output_type": "stream",
     "text": [
      "\n",
      "Checking if any columns are still categorical (should be 0):\n",
      "0\n",
      "0\n",
      "\n",
      "✅ Preprocessing complete. All data is numeric. Ready for training!\n"
     ]
    }
   ],
   "source": [
    "import pandas as pd\n",
    "import numpy as np\n",
    "from sklearn.model_selection import train_test_split\n",
    "from sklearn.preprocessing import LabelEncoder, OneHotEncoder, StandardScaler\n",
    "from datetime import datetime\n",
    "import pickle\n",
    "\n",
    "# --- Load Data ---\n",
    "data = pd.read_csv('data_202512.csv', low_memory=False, encoding='ISO-8859-1')\n",
    "\n",
    "# --- Convert BIRTHDATE to datetime ---\n",
    "data['BIRTHDATE'] = pd.to_datetime(data['BIRTHDATE'], errors='coerce')\n",
    "\n",
    "# --- Calculate AGE (Current Year - Birth Year) ---\n",
    "current_year = datetime.now().year\n",
    "data['AGE'] = current_year - data['BIRTHDATE'].dt.year\n",
    "\n",
    "# --- Handle Missing or Invalid BIRTHDATE (Replace with Mean Age) ---\n",
    "mean_age = data['AGE'].mean()\n",
    "data['AGE'].fillna(mean_age, inplace=True)\n",
    "\n",
    "# --- Drop Unnecessary Columns ---\n",
    "columns_to_drop = [\n",
    "    'ETHNIC_GROUP_NAME', 'STUDENT_TYPE', 'QUALIFICATION_CODE', 'QUALIFICATION_NAME',\n",
    "    'FACULTY_SCHOOL_NAME', 'SECONDARY_SCHOOL_NAME', 'RESULT_DESCRIPTION', 'SECONDARY_SCHOOL',\n",
    "    'PASS_FAIL', 'STUDENT_NUMBER', 'STUDENT_NAME', 'ACADEMIC_YEAR', 'TITLE', 'INITIALS',\n",
    "    'BIRTHDATE', 'DEPARTMENT_NAME', 'OFFERING_TYPE_CODE', 'TRANSACTION_DATE', 'QUALIFICATION_TYPE',\n",
    "    'STATS_ETHNIC_GROUP', 'FIRST_NAMES', 'SURNAME', 'FINAL_MARK', 'MARITAL_STATUS','HOME_LANGUAGE','STUDENT_EMAIL','EXAM_MARK'\n",
    "]\n",
    "data.drop(columns=columns_to_drop, inplace=True)\n",
    "\n",
    "# --- Handle RESIDENCE Column ---\n",
    "data['RESIDENCE'] = data['RESIDENCE'].notna().astype(int)\n",
    "\n",
    "# --- Encode LANGUAGE_NAME (XHOSA = 1, Others = 2) ---\n",
    "data['LANGUAGE_NAME'] = data['LANGUAGE_NAME'].apply(lambda x: 1 if x == 'XHOSA' else 2)\n",
    "\n",
    "# --- Encode STUDENT_FOUNDATION (Y=1, N=0) ---\n",
    "data['STUDENT_FOUNDATION'] = data['STUDENT_FOUNDATION'].map({'Y': 1, 'N': 0})\n",
    "data['STUDENT_FOUNDATION'].fillna(0, inplace=True)  # Assume missing means No Foundation\n",
    "\n",
    "# --- Split Data into Features (X) and Target (y) ---\n",
    "X = data.drop('SUCCESS', axis=1)\n",
    "y = data['SUCCESS']\n",
    "X_train, X_test, y_train, y_test = train_test_split(X, y, test_size=0.1, random_state=42, stratify=y)\n",
    "\n",
    "# --- Handle Missing Values ---\n",
    "fillna_with_minus1 = ['MATRIC_SYMBOL', 'MATRIC_RATIO', 'AMOUNT_AWARDED']\n",
    "X_train[fillna_with_minus1] = X_train[fillna_with_minus1].fillna(-1)\n",
    "X_test[fillna_with_minus1] = X_test[fillna_with_minus1].fillna(-1)\n",
    "\n",
    "# Fill numerical missing values with mean\n",
    "numerical_cols = X_train.select_dtypes(include=['float64', 'int64']).columns.difference(fillna_with_minus1)\n",
    "mean_values = X_train[numerical_cols].mean()\n",
    "X_train[numerical_cols] = X_train[numerical_cols].fillna(mean_values)\n",
    "X_test[numerical_cols] = X_test[numerical_cols].fillna(mean_values)\n",
    "\n",
    "# --- Label Encode Categorical Variables ---\n",
    "categorical_columns = ['GENDER', 'FTEN_STATUS_THIS_YEAR', 'MATRIC_TYPE_DESCRIPTION', \n",
    "                        'NATIONAL_LEVEL_DESC', 'NSFAS_BURSARY_Y_N', 'OFFERING_TYPE']\n",
    "label_encoders = {}\n",
    "\n",
    "for column in categorical_columns:\n",
    "    le = LabelEncoder()\n",
    "    X_train[column] = le.fit_transform(X_train[column].astype(str))\n",
    "    \n",
    "    # Handle unseen categories in X_test safely\n",
    "    X_test[column] = X_test[column].apply(lambda x: le.transform([x])[0] if x in le.classes_ else le.classes_.size)\n",
    "    \n",
    "    label_encoders[column] = le\n",
    "\n",
    "# Save Label Encoders\n",
    "with open('label_encoders.pkl', 'wb') as f:\n",
    "    pickle.dump(label_encoders, f)\n",
    "\n",
    "# --- One-Hot Encoding for CAMPUS_NAME ---\n",
    "one_hot_encoder = OneHotEncoder(sparse_output=False, handle_unknown='ignore')\n",
    "\n",
    "X_train_campus = one_hot_encoder.fit_transform(X_train[['CAMPUS_NAME']])\n",
    "X_test_campus = one_hot_encoder.transform(X_test[['CAMPUS_NAME']])\n",
    "\n",
    "campus_columns = one_hot_encoder.get_feature_names_out(['CAMPUS_NAME'])\n",
    "X_train_campus_df = pd.DataFrame(X_train_campus, columns=campus_columns, index=X_train.index)\n",
    "X_test_campus_df = pd.DataFrame(X_test_campus, columns=campus_columns, index=X_test.index)\n",
    "\n",
    "# Drop original column and concatenate encoded data\n",
    "X_train.drop('CAMPUS_NAME', axis=1, inplace=True)\n",
    "X_test.drop('CAMPUS_NAME', axis=1, inplace=True)\n",
    "X_train = pd.concat([X_train, X_train_campus_df], axis=1)\n",
    "X_test = pd.concat([X_test, X_test_campus_df], axis=1)\n",
    "\n",
    "# Save One-Hot Encoder\n",
    "with open('one_hot_encoder.pkl', 'wb') as f:\n",
    "    pickle.dump(one_hot_encoder, f)\n",
    "\n",
    "# --- Scale Numerical Features ---\n",
    "scaler = StandardScaler()\n",
    "X_train[numerical_cols] = scaler.fit_transform(X_train[numerical_cols])\n",
    "X_test[numerical_cols] = scaler.transform(X_test[numerical_cols])\n",
    "\n",
    "# Save Scaler\n",
    "with open('scaler.pkl', 'wb') as f:\n",
    "    pickle.dump(scaler, f)\n",
    "\n",
    "# --- Ensure Feature Consistency ---\n",
    "common_features = X_train.columns.intersection(X_test.columns)\n",
    "X_train = X_train[common_features]\n",
    "X_test = X_test[common_features]\n",
    "\n",
    "# --- Final Check for Categorical Data ---\n",
    "print(\"\\nChecking if any columns are still categorical (should be 0):\")\n",
    "print(X_train.select_dtypes(include=['object']).shape[1])  # Should be 0\n",
    "print(X_test.select_dtypes(include=['object']).shape[1])  # Should be 0\n",
    "\n",
    "# --- Save Processed Data ---\n",
    "X_train.to_csv('X_train_preprocessed_scaled.csv', index=False)\n",
    "X_test.to_csv('X_test_preprocessed_scaled.csv', index=False)\n",
    "pd.DataFrame(y_train, columns=['SUCCESS']).to_csv('y_train.csv', index=False)\n",
    "pd.DataFrame(y_test, columns=['SUCCESS']).to_csv('y_test.csv', index=False)\n",
    "\n",
    "# Save Mean Values for Future Use\n",
    "with open('training_data_means.pkl', 'wb') as f:\n",
    "    pickle.dump(mean_values.to_dict(), f)\n",
    "\n",
    "# Save Feature Names\n",
    "with open('feature_names.pkl', 'wb') as f:\n",
    "    pickle.dump(X_train.columns.tolist(), f)\n",
    "\n",
    "print(\"\\n✅ Preprocessing complete. All data is numeric. Ready for training!\")\n"
   ]
  },
  {
   "cell_type": "code",
   "execution_count": 19,
   "id": "2630a391",
   "metadata": {},
   "outputs": [
    {
     "name": "stdout",
     "output_type": "stream",
     "text": [
      "GENDER                               int64\n",
      "LANGUAGE_NAME                      float64\n",
      "FTEN_STATUS_THIS_YEAR                int64\n",
      "OFFERING_TYPE                        int64\n",
      "NATIONAL_LEVEL_DESC                  int64\n",
      "MATRIC_TYPE_DESCRIPTION              int64\n",
      "STUDENT_FOUNDATION                 float64\n",
      "AMOUNT_AWARDED                     float64\n",
      "NSFAS_BURSARY_Y_N                    int64\n",
      "NUMBER_MATRIC_SUBJECTS             float64\n",
      "MATRIC_SYMBOL                      float64\n",
      "MATRIC_RATIO                       float64\n",
      "RESIDENCE                          float64\n",
      "TEST_MARK                          float64\n",
      "AGE                                  int32\n",
      "CAMPUS_NAME_Buffalo City Campus    float64\n",
      "CAMPUS_NAME_Butterworth Campus     float64\n",
      "CAMPUS_NAME_Mthatha Campus         float64\n",
      "CAMPUS_NAME_Queenstown Campus      float64\n",
      "dtype: object\n",
      "GENDER                               int64\n",
      "LANGUAGE_NAME                      float64\n",
      "FTEN_STATUS_THIS_YEAR                int64\n",
      "OFFERING_TYPE                        int64\n",
      "NATIONAL_LEVEL_DESC                  int64\n",
      "MATRIC_TYPE_DESCRIPTION              int64\n",
      "STUDENT_FOUNDATION                 float64\n",
      "AMOUNT_AWARDED                     float64\n",
      "NSFAS_BURSARY_Y_N                    int64\n",
      "NUMBER_MATRIC_SUBJECTS             float64\n",
      "MATRIC_SYMBOL                      float64\n",
      "MATRIC_RATIO                       float64\n",
      "RESIDENCE                          float64\n",
      "TEST_MARK                          float64\n",
      "AGE                                  int32\n",
      "CAMPUS_NAME_Buffalo City Campus    float64\n",
      "CAMPUS_NAME_Butterworth Campus     float64\n",
      "CAMPUS_NAME_Mthatha Campus         float64\n",
      "CAMPUS_NAME_Queenstown Campus      float64\n",
      "dtype: object\n"
     ]
    }
   ],
   "source": [
    "print(X_train.dtypes)\n",
    "print(X_test.dtypes)"
   ]
  },
  {
   "cell_type": "markdown",
   "id": "bea4b0e2",
   "metadata": {},
   "source": [
    "# MODEL TRAINING"
   ]
  },
  {
   "cell_type": "code",
   "execution_count": 1,
   "id": "da92feb9",
   "metadata": {},
   "outputs": [
    {
     "name": "stdout",
     "output_type": "stream",
     "text": [
      "Original class distribution in training data:\n",
      "1    73120\n",
      "0    21349\n",
      "Name: count, dtype: int64\n",
      "\n",
      "Resampled class distribution:\n",
      "1    54840\n",
      "0    43872\n",
      "Name: count, dtype: int64\n",
      "\n",
      "Cross-Validation Scores: [0.86790255 0.86430634 0.87103637 0.86196941 0.86597103]\n",
      "Mean CV Accuracy: 0.8662371369781768\n"
     ]
    },
    {
     "name": "stderr",
     "output_type": "stream",
     "text": [
      "c:\\Users\\smmakola\\AppData\\Local\\Programs\\Python\\Python313\\Lib\\site-packages\\xgboost\\training.py:183: UserWarning: [14:41:14] WARNING: C:\\actions-runner\\_work\\xgboost\\xgboost\\src\\learner.cc:738: \n",
      "Parameters: { \"use_label_encoder\" } are not used.\n",
      "\n",
      "  bst.update(dtrain, iteration=i, fobj=obj)\n"
     ]
    },
    {
     "data": {
      "image/png": "[encoded data removed]",
      "text/plain": [
       "<Figure size 640x480 with 2 Axes>"
      ]
     },
     "metadata": {},
     "output_type": "display_data"
    },
    {
     "name": "stdout",
     "output_type": "stream",
     "text": [
      "\n",
      "Classification Report:\n",
      "              precision    recall  f1-score   support\n",
      "\n",
      "           0       0.67      0.65      0.66      2372\n",
      "           1       0.90      0.91      0.90      8125\n",
      "\n",
      "    accuracy                           0.85     10497\n",
      "   macro avg       0.78      0.78      0.78     10497\n",
      "weighted avg       0.85      0.85      0.85     10497\n",
      "\n"
     ]
    },
    {
     "data": {
      "image/png": "[encoded data removed]",
      "text/plain": [
       "<Figure size 640x480 with 1 Axes>"
      ]
     },
     "metadata": {},
     "output_type": "display_data"
    },
    {
     "data": {
      "image/png": "[encoded data removed]",
      "text/plain": [
       "<Figure size 1200x800 with 1 Axes>"
      ]
     },
     "metadata": {},
     "output_type": "display_data"
    },
    {
     "name": "stdout",
     "output_type": "stream",
     "text": [
      "\n",
      "✅ Model training complete. Files saved successfully!\n"
     ]
    }
   ],
   "source": [
    "import pandas as pd\n",
    "import numpy as np\n",
    "from sklearn.model_selection import cross_val_score, StratifiedKFold\n",
    "from imblearn.over_sampling import SMOTE\n",
    "from imblearn.under_sampling import RandomUnderSampler\n",
    "from imblearn.pipeline import Pipeline\n",
    "from xgboost import XGBClassifier\n",
    "from sklearn.metrics import confusion_matrix, ConfusionMatrixDisplay, classification_report, roc_curve, auc\n",
    "import matplotlib.pyplot as plt\n",
    "import pickle\n",
    "\n",
    "# --- Load Preprocessed Data ---\n",
    "X_train = pd.read_csv('X_train_preprocessed_scaled.csv')\n",
    "X_test = pd.read_csv('X_test_preprocessed_scaled.csv')\n",
    "y_train = pd.read_csv('y_train.csv')['SUCCESS'].values  # Ensure it's a 1D array\n",
    "y_test = pd.read_csv('y_test.csv')['SUCCESS'].values\n",
    "\n",
    "# --- Ensure Feature Consistency ---\n",
    "common_features = X_train.columns.intersection(X_test.columns)\n",
    "X_train = X_train[common_features]\n",
    "X_test = X_test[common_features]\n",
    "\n",
    "# --- Handle Missing Values ---\n",
    "X_train.fillna(X_train.mean(), inplace=True)\n",
    "X_test.fillna(X_train.mean(), inplace=True)  # Use training mean\n",
    "\n",
    "# --- Check Class Distribution Before Resampling ---\n",
    "print(\"Original class distribution in training data:\")\n",
    "print(pd.Series(y_train).value_counts())\n",
    "\n",
    "# --- Apply Class Balancing (SMOTE + Random UnderSampling) ---\n",
    "over = SMOTE(sampling_strategy=0.6, random_state=42)  # Oversample minority class to 60% of majority class\n",
    "under = RandomUnderSampler(sampling_strategy=0.8, random_state=42)  # Undersample majority to 80% of its original size\n",
    "pipeline = Pipeline(steps=[('oversample', over), ('undersample', under)])\n",
    "\n",
    "# Apply Resampling\n",
    "X_train_res, y_train_res = pipeline.fit_resample(X_train, y_train)\n",
    "\n",
    "# Check class distribution after resampling\n",
    "print(\"\\nResampled class distribution:\")\n",
    "print(pd.Series(y_train_res).value_counts())\n",
    "\n",
    "# --- Compute `scale_pos_weight` for XGBoost (Balances Class Weights) ---\n",
    "class_counts = np.bincount(y_train_res)\n",
    "scale_pos_weight = class_counts[0] / class_counts[1] if class_counts[1] > 0 else 1.0\n",
    "\n",
    "# --- Initialize XGBoost Classifier ---\n",
    "xgb_clf = XGBClassifier(\n",
    "    random_state=42,\n",
    "    n_estimators=400,       # Number of trees\n",
    "    learning_rate=0.05,     # Helps prevent overfitting\n",
    "    max_depth=6,            # Controls tree complexity\n",
    "    scale_pos_weight=scale_pos_weight,  # Adjusts class imbalance\n",
    "    eval_metric='logloss',\n",
    "    use_label_encoder=False,\n",
    "    n_jobs=-1\n",
    ")\n",
    "\n",
    "# --- Perform Cross-Validation ---\n",
    "skf = StratifiedKFold(n_splits=5, shuffle=True, random_state=42)\n",
    "cv_scores = cross_val_score(xgb_clf, X_train_res, y_train_res, cv=skf, scoring='accuracy', n_jobs=-1)\n",
    "\n",
    "print(\"\\nCross-Validation Scores:\", cv_scores)\n",
    "print(\"Mean CV Accuracy:\", np.mean(cv_scores))\n",
    "\n",
    "# --- Train the Classifier ---\n",
    "xgb_clf.fit(X_train_res, y_train_res)\n",
    "\n",
    "# --- Make Predictions ---\n",
    "predictions = xgb_clf.predict(X_test)\n",
    "\n",
    "# --- Confusion Matrix ---\n",
    "cm = confusion_matrix(y_test, predictions)\n",
    "disp = ConfusionMatrixDisplay(confusion_matrix=cm)\n",
    "disp.plot()\n",
    "plt.title(\"Confusion Matrix\")\n",
    "plt.savefig('confusion_matrix.png')\n",
    "plt.show()\n",
    "\n",
    "# --- Classification Report ---\n",
    "print(\"\\nClassification Report:\")\n",
    "print(classification_report(y_test, predictions))\n",
    "\n",
    "# --- ROC Curve ---\n",
    "y_pred_prob = xgb_clf.predict_proba(X_test)[:, 1]\n",
    "fpr, tpr, thresholds = roc_curve(y_test, y_pred_prob)\n",
    "roc_auc = auc(fpr, tpr)\n",
    "\n",
    "plt.figure()\n",
    "plt.plot(fpr, tpr, color='darkorange', lw=2, label=f'ROC curve (AUC = {roc_auc:.2f})')\n",
    "plt.plot([0, 1], [0, 1], color='navy', lw=2, linestyle='--')\n",
    "plt.xlim([0.0, 1.0])\n",
    "plt.ylim([0.0, 1.05])\n",
    "plt.xlabel('False Positive Rate')\n",
    "plt.ylabel('True Positive Rate')\n",
    "plt.title('Receiver Operating Characteristic (ROC) Curve')\n",
    "plt.legend(loc='lower right')\n",
    "plt.savefig('roc_curve.png')\n",
    "plt.show()\n",
    "\n",
    "# --- Feature Importance ---\n",
    "importance = xgb_clf.feature_importances_\n",
    "feature_names = X_train.columns\n",
    "importance_df = pd.DataFrame({'Feature': feature_names, 'Importance': importance}).sort_values(by='Importance', ascending=False)\n",
    "\n",
    "plt.figure(figsize=(12, 8))\n",
    "plt.bar(importance_df['Feature'][:20], importance_df['Importance'][:20])  # Show top 20 features\n",
    "plt.xticks(rotation=90)\n",
    "plt.title('Top 20 Feature Importances')\n",
    "plt.xlabel('Feature Name')\n",
    "plt.ylabel('Importance Score')\n",
    "plt.savefig('feature_importance.png')\n",
    "plt.show()\n",
    "\n",
    "# --- Save Model & Encoders ---\n",
    "with open('xgb_clf.pkl', 'wb') as f:\n",
    "    pickle.dump(xgb_clf, f)\n",
    "\n",
    "with open('feature_importance.pkl', 'wb') as f:\n",
    "    pickle.dump(importance_df, f)\n",
    "\n",
    "print(\"\\n✅ Model training complete. Files saved successfully!\")\n"
   ]
  },
  {
   "cell_type": "markdown",
   "id": "564191c2",
   "metadata": {},
   "source": [
    "# MODEL SCORING"
   ]
  },
  {
   "cell_type": "code",
   "execution_count": 22,
   "id": "27ae174c",
   "metadata": {},
   "outputs": [],
   "source": [
    "import numpy as np\n",
    "import pandas as pd\n",
    "import pickle\n",
    "import joblib"
   ]
  },
  {
   "cell_type": "code",
   "execution_count": 7,
   "id": "a90d8166",
   "metadata": {},
   "outputs": [],
   "source": [
    "new_data = pd.read_csv('2025.csv', low_memory=False, encoding='ISO-8859-1')"
   ]
  },
  {
   "cell_type": "code",
   "execution_count": 8,
   "id": "f3da4683",
   "metadata": {},
   "outputs": [
    {
     "name": "stdout",
     "output_type": "stream",
     "text": [
      "<class 'pandas.core.frame.DataFrame'>\n",
      "RangeIndex: 30431 entries, 0 to 30430\n",
      "Data columns (total 54 columns):\n",
      " #   Column                     Non-Null Count  Dtype  \n",
      "---  ------                     --------------  -----  \n",
      " 0   STUDENT_NUMBER             30431 non-null  int64  \n",
      " 1   STUDENT_NAME               30431 non-null  object \n",
      " 2   GENDER                     30431 non-null  object \n",
      " 3   HOME_LANGUAGE              30431 non-null  object \n",
      " 4   LANGUAGE_NAME              30431 non-null  object \n",
      " 5   ETHNIC_GROUP_NAME          30429 non-null  object \n",
      " 6   STATS_ETHNIC_GROUP         30429 non-null  object \n",
      " 7   BIRTHDATE                  30431 non-null  object \n",
      " 8   STUDENT_TYPE               30431 non-null  object \n",
      " 9   QUALIFICATION_CODE         30431 non-null  object \n",
      " 10  QUALIFICATION_NAME         30431 non-null  object \n",
      " 11  FTEN_STATUS_THIS_YEAR      30431 non-null  object \n",
      " 12  DEPARTMENT_NAME            30431 non-null  object \n",
      " 13  FACULTY_SCHOOL_NAME        30431 non-null  object \n",
      " 14  OFFERING_TYPE_CODE         30431 non-null  object \n",
      " 15  OFFERING_TYPE              30431 non-null  object \n",
      " 16  CAMPUS_NAME                30431 non-null  object \n",
      " 17  ACADEMIC_YEAR              30431 non-null  int64  \n",
      " 18  QUALIFICATION_TYPE         30431 non-null  object \n",
      " 19  NATIONAL_LEVEL_DESC        30431 non-null  object \n",
      " 20  SECONDARY_SCHOOL           29598 non-null  object \n",
      " 21  SECONDARY_SCHOOL_NAME      29534 non-null  object \n",
      " 22  TRANSACTION_DATE           30431 non-null  object \n",
      " 23  TITLE                      30429 non-null  object \n",
      " 24  INITIALS                   30296 non-null  object \n",
      " 25  FIRST_NAMES                30431 non-null  object \n",
      " 26  SURNAME                    30431 non-null  object \n",
      " 27  RESULT_DESCRIPTION         0 non-null      float64\n",
      " 28  PASS_FAIL                  0 non-null      float64\n",
      " 29  MARITAL_STATUS             19743 non-null  object \n",
      " 30  MATRIC_TYPE_DESCRIPTION    30431 non-null  object \n",
      " 31  STUDENT_FOUNDATION         30426 non-null  object \n",
      " 32  STUDENT_EMAIL              30431 non-null  object \n",
      " 33  SUCCESS                    0 non-null      float64\n",
      " 34  AMOUNT_AWARDED             25740 non-null  float64\n",
      " 35  NSFAS_BURSARY_Y_N          25740 non-null  object \n",
      " 36  NUMBER_MATRIC_SUBJECTS     30431 non-null  int64  \n",
      " 37  MATRIC_SYMBOL              30057 non-null  float64\n",
      " 38  MATRIC_RATIO               30057 non-null  float64\n",
      " 39  RESIDENCE                  7290 non-null   object \n",
      " 40  EXAM_MARK                  0 non-null      float64\n",
      " 41  FINAL_MARK                 0 non-null      float64\n",
      " 42  TEST_MARK                  1389 non-null   float64\n",
      " 43  NatEmis                    12900 non-null  float64\n",
      " 44  Province                   12900 non-null  object \n",
      " 45  ProvinceCD                 12900 non-null  float64\n",
      " 46  Official_Institution_Name  12900 non-null  object \n",
      " 47  Sector                     12900 non-null  object \n",
      " 48  GIS_Longitude              12874 non-null  float64\n",
      " 49  GIS_Latitude               12874 non-null  float64\n",
      " 50  Township_Village           3999 non-null   object \n",
      " 51  NoFeeSchool                12900 non-null  object \n",
      " 52  Rural_Urban                12900 non-null  object \n",
      " 53  QUINTILE                   12900 non-null  object \n",
      "dtypes: float64(13), int64(3), object(38)\n",
      "memory usage: 12.5+ MB\n"
     ]
    }
   ],
   "source": [
    "new_data.info()"
   ]
  },
  {
   "cell_type": "code",
   "execution_count": 9,
   "id": "277cd90c",
   "metadata": {},
   "outputs": [
    {
     "name": "stderr",
     "output_type": "stream",
     "text": [
      "C:\\Users\\smmakola\\AppData\\Local\\Temp\\3\\ipykernel_7912\\1445087390.py:16: FutureWarning: A value is trying to be set on a copy of a DataFrame or Series through chained assignment using an inplace method.\n",
      "The behavior will change in pandas 3.0. This inplace method will never work because the intermediate object on which we are setting values always behaves as a copy.\n",
      "\n",
      "For example, when doing 'df[col].method(value, inplace=True)', try using 'df.method({col: value}, inplace=True)' or df[col] = df[col].method(value) instead, to perform the operation inplace on the original object.\n",
      "\n",
      "\n",
      "  new_data['AGE'].fillna(mean_age, inplace=True)\n",
      "C:\\Users\\smmakola\\AppData\\Local\\Temp\\3\\ipykernel_7912\\1445087390.py:47: FutureWarning: A value is trying to be set on a copy of a DataFrame or Series through chained assignment using an inplace method.\n",
      "The behavior will change in pandas 3.0. This inplace method will never work because the intermediate object on which we are setting values always behaves as a copy.\n",
      "\n",
      "For example, when doing 'df[col].method(value, inplace=True)', try using 'df.method({col: value}, inplace=True)' or df[col] = df[col].method(value) instead, to perform the operation inplace on the original object.\n",
      "\n",
      "\n",
      "  new_data_cleaned['STUDENT_FOUNDATION'].fillna(0, inplace=True)\n",
      "C:\\Users\\smmakola\\AppData\\Local\\Temp\\3\\ipykernel_7912\\1445087390.py:51: FutureWarning: A value is trying to be set on a copy of a DataFrame or Series through chained assignment using an inplace method.\n",
      "The behavior will change in pandas 3.0. This inplace method will never work because the intermediate object on which we are setting values always behaves as a copy.\n",
      "\n",
      "For example, when doing 'df[col].method(value, inplace=True)', try using 'df.method({col: value}, inplace=True)' or df[col] = df[col].method(value) instead, to perform the operation inplace on the original object.\n",
      "\n",
      "\n",
      "  new_data['TEST_MARK'].fillna(-1, inplace=True)\n",
      "C:\\Users\\smmakola\\AppData\\Local\\Temp\\3\\ipykernel_7912\\1445087390.py:58: FutureWarning: A value is trying to be set on a copy of a DataFrame or Series through chained assignment using an inplace method.\n",
      "The behavior will change in pandas 3.0. This inplace method will never work because the intermediate object on which we are setting values always behaves as a copy.\n",
      "\n",
      "For example, when doing 'df[col].method(value, inplace=True)', try using 'df.method({col: value}, inplace=True)' or df[col] = df[col].method(value) instead, to perform the operation inplace on the original object.\n",
      "\n",
      "\n",
      "  new_data_cleaned[col].fillna(-1, inplace=True)\n",
      "C:\\Users\\smmakola\\AppData\\Local\\Temp\\3\\ipykernel_7912\\1445087390.py:67: FutureWarning: A value is trying to be set on a copy of a DataFrame or Series through chained assignment using an inplace method.\n",
      "The behavior will change in pandas 3.0. This inplace method will never work because the intermediate object on which we are setting values always behaves as a copy.\n",
      "\n",
      "For example, when doing 'df[col].method(value, inplace=True)', try using 'df.method({col: value}, inplace=True)' or df[col] = df[col].method(value) instead, to perform the operation inplace on the original object.\n",
      "\n",
      "\n",
      "  new_data_cleaned[col].fillna(training_means.get(col, 0), inplace=True)  # Default to 0 if not in means\n"
     ]
    },
    {
     "name": "stdout",
     "output_type": "stream",
     "text": [
      "✅ Updated data with actionable insights saved successfully.\n"
     ]
    }
   ],
   "source": [
    "import pandas as pd\n",
    "import numpy as np\n",
    "import joblib\n",
    "from sklearn.preprocessing import LabelEncoder, OneHotEncoder, StandardScaler\n",
    "from datetime import datetime\n",
    "import pickle\n",
    "\n",
    "# --- Load New Data ---\n",
    "new_data = pd.read_csv('2025.csv', low_memory=False, encoding='ISO-8859-1')\n",
    "\n",
    "# --- Convert BIRTHDATE to datetime & Compute AGE ---\n",
    "new_data['BIRTHDATE'] = pd.to_datetime(new_data['BIRTHDATE'], errors='coerce')\n",
    "current_year = datetime.now().year\n",
    "new_data['AGE'] = current_year - new_data['BIRTHDATE'].dt.year\n",
    "mean_age = new_data['AGE'].mean()\n",
    "new_data['AGE'].fillna(mean_age, inplace=True)\n",
    "\n",
    "# --- Drop Unnecessary Columns ---\n",
    "columns_to_drop = [\n",
    "    'ETHNIC_GROUP_NAME', 'STUDENT_TYPE', 'QUALIFICATION_CODE', 'QUALIFICATION_NAME',\n",
    "    'FACULTY_SCHOOL_NAME', 'SECONDARY_SCHOOL_NAME', 'RESULT_DESCRIPTION', 'SECONDARY_SCHOOL',\n",
    "    'PASS_FAIL', 'STUDENT_NUMBER', 'STUDENT_NAME', 'ACADEMIC_YEAR', 'TITLE', 'INITIALS','ProvinceCD','SUCCESS',\n",
    "    'BIRTHDATE', 'DEPARTMENT_NAME', 'OFFERING_TYPE_CODE', 'TRANSACTION_DATE', 'QUALIFICATION_TYPE',\n",
    "    'STATS_ETHNIC_GROUP', 'FIRST_NAMES', 'SURNAME', 'FINAL_MARK', 'MARITAL_STATUS', 'Educators2023', 'GIS_Latitude', 'GIS_Longitude', 'Learners2023', 'NatEmis',\n",
    "    'HOME_LANGUAGE','EXAM_MARK','HOME_LANGUAGE'\n",
    "]\n",
    "new_data_cleaned = new_data.drop(columns=[col for col in columns_to_drop if col in new_data.columns])\n",
    "\n",
    "# --- Handle Missing Features (Funding, NSFAS, Residence) ---\n",
    "safe_defaults = {\n",
    "    'AMOUNT_AWARDED': -1,   # Funding still being finalized\n",
    "    'NSFAS_BURSARY_Y_N': 'UNKNOWN',  # If missing, we assume it's still pending\n",
    "    'RESIDENCE': 0  # Default to non-residence if unknown\n",
    "}\n",
    "for col, default_value in safe_defaults.items():\n",
    "    if col not in new_data_cleaned:\n",
    "        new_data_cleaned[col] = default_value\n",
    "\n",
    "# --- Handle RESIDENCE Column ---\n",
    "new_data_cleaned['RESIDENCE'] = new_data_cleaned['RESIDENCE'].notna().astype(int)\n",
    "\n",
    "# --- Encode LANGUAGE_NAME (XHOSA = 1, Others = 2) ---\n",
    "new_data_cleaned['LANGUAGE_NAME'] = new_data_cleaned['LANGUAGE_NAME'].apply(lambda x: 1 if x == 'XHOSA' else 2)\n",
    "\n",
    "# --- Encode STUDENT_FOUNDATION (Y=1, N=0) ---\n",
    "new_data_cleaned['STUDENT_FOUNDATION'] = new_data_cleaned['STUDENT_FOUNDATION'].map({'Y': 1, 'N': 0})\n",
    "new_data_cleaned['STUDENT_FOUNDATION'].fillna(0, inplace=True)\n",
    "\n",
    "# --- Ensure TEST_MARK and Indicator Feature ---\n",
    "new_data['TEST_MARK_AVAILABLE'] = new_data['TEST_MARK'].notna().astype(int)\n",
    "new_data['TEST_MARK'].fillna(-1, inplace=True)\n",
    "\n",
    "\n",
    "# --- Fill Missing Values for Specific Columns ---\n",
    "fillna_with_minus1 = ['MATRIC_SYMBOL', 'MATRIC_RATIO', 'AMOUNT_AWARDED','AGE']\n",
    "for col in fillna_with_minus1:\n",
    "    if col in new_data_cleaned:\n",
    "        new_data_cleaned[col].fillna(-1, inplace=True)\n",
    "\n",
    "# Fill numerical missing values with mean from training data\n",
    "with open('training_data_means.pkl', 'rb') as f:\n",
    "    training_means = pickle.load(f)\n",
    "\n",
    "numerical_cols = new_data_cleaned.select_dtypes(include=['float64', 'int64']).columns.difference(fillna_with_minus1)\n",
    "for col in numerical_cols:\n",
    "    if col in new_data_cleaned:\n",
    "        new_data_cleaned[col].fillna(training_means.get(col, 0), inplace=True)  # Default to 0 if not in means\n",
    "\n",
    "# --- Label Encode Categorical Variables ---\n",
    "categorical_columns = ['GENDER', 'FTEN_STATUS_THIS_YEAR', 'MATRIC_TYPE_DESCRIPTION', \n",
    "                        'NATIONAL_LEVEL_DESC', 'NSFAS_BURSARY_Y_N', 'OFFERING_TYPE']\n",
    "\n",
    "with open('label_encoders.pkl', 'rb') as f:\n",
    "    label_encoders = pickle.load(f)\n",
    "\n",
    "for column in categorical_columns:\n",
    "    if column in new_data_cleaned:\n",
    "        le = label_encoders[column]\n",
    "        new_data_cleaned[column] = new_data_cleaned[column].apply(lambda x: le.transform([x])[0] if x in le.classes_ else le.classes_.size)\n",
    "    else:\n",
    "        new_data_cleaned[column] = 0  # Default for missing categorical columns\n",
    "\n",
    "# --- One-Hot Encoding for CAMPUS_NAME ---\n",
    "with open('one_hot_encoder.pkl', 'rb') as f:\n",
    "    one_hot_encoder = pickle.load(f)\n",
    "\n",
    "if 'CAMPUS_NAME' in new_data_cleaned:\n",
    "    campus_encoded = one_hot_encoder.transform(new_data_cleaned[['CAMPUS_NAME']])\n",
    "    campus_encoded_df = pd.DataFrame(campus_encoded, columns=one_hot_encoder.get_feature_names_out(['CAMPUS_NAME']), index=new_data_cleaned.index)\n",
    "    new_data_cleaned.drop('CAMPUS_NAME', axis=1, inplace=True)\n",
    "    new_data_cleaned = pd.concat([new_data_cleaned, campus_encoded_df], axis=1)\n",
    "\n",
    "# --- Ensure Feature Consistency with Trained Model ---\n",
    "with open('feature_names.pkl', 'rb') as f:\n",
    "    feature_names = pickle.load(f)\n",
    "\n",
    "for col in feature_names:\n",
    "    if col not in new_data_cleaned:\n",
    "        new_data_cleaned[col] = 0  # Add missing columns with default value\n",
    "\n",
    "new_data_cleaned = new_data_cleaned[feature_names]\n",
    "\n",
    "# --- Scale Numerical Features ---\n",
    "with open('scaler.pkl', 'rb') as f:\n",
    "    scaler = pickle.load(f)\n",
    "\n",
    "new_data_cleaned[numerical_cols] = scaler.transform(new_data_cleaned[numerical_cols])\n",
    "\n",
    "# --- Load Trained Model & Perform Predictions ---\n",
    "model = joblib.load('xgb_clf.pkl')\n",
    "class_predictions = model.predict(new_data_cleaned)\n",
    "probs = model.predict_proba(new_data_cleaned)[:, 1] * 100  # Probability of success\n",
    "\n",
    "# --- Define Success Score Binning ---\n",
    "def binning(probabilities):\n",
    "    return ['Very Low' if p < 20 else \n",
    "            'Low' if 20 <= p < 50 else \n",
    "            'Moderate' if 50 <= p < 75 else \n",
    "            'High' if 75 <= p < 85 else \n",
    "            'Very High' for p in probabilities]\n",
    "\n",
    "new_data_cleaned['Prediction'] = class_predictions\n",
    "new_data_cleaned['Probability'] = probs\n",
    "new_data_cleaned['Success_Scores'] = binning(probs)\n",
    "\n",
    "def actionable_insights(row):\n",
    "    insights = []\n",
    "    if row['Success_Scores'] in ['Very Low', 'Low']:\n",
    "        if row.get('NSFAS_BURSARY_Y_N') == 0:\n",
    "            insights.append(\"Explore Financial Literacy Workshops.\")\n",
    "        if row.get('FTEN_STATUS_THIS_YEAR') == 1 or row.get('QUINTILE') in ['Q1', 'Q2', 'Q3'] or row.get('NoFeeSchool') == 'YES' or row.get('MATRIC_SYMBOL', 100) < 30:\n",
    "            insights.append(\"Join Academic Support Programs.\")\n",
    "        if row.get('SUBJECT_FAILED', 0) > 1 and row.get('GENDER', 0) == 1:\n",
    "            insights.append(\"Join the MALE Student Success Program.\")\n",
    "        if row.get('SUBJECT_FAILED', 0) > 3:\n",
    "            insights.append(\"Attend the Time Management & Coping Skills Workshops.\")\n",
    "            \n",
    "        if not insights:\n",
    "            insights.append(\"Consult with an advisor for personalized guidance and support.\")\n",
    "    else:\n",
    "        insights.append(\"Maintain your positive trajectory towards success.\")\n",
    "    return '; '.join(insights)\n",
    "new_data_cleaned['Actionable Insights'] = new_data_cleaned.apply(actionable_insights, axis=1)\n",
    "\n",
    "\n",
    "# --- Define Outcome Based on Success Scores ---\n",
    "new_data_cleaned['Outcome'] = new_data_cleaned['Success_Scores'].apply(lambda x: 'At Risk' if x in ['Very Low', 'Low'] else 'On Track')\n",
    "\n",
    "# --- Merge Insights & Scores with Original Data ---\n",
    "final_data = pd.concat([new_data, new_data_cleaned[['Prediction', 'Probability', 'Success_Scores', 'Actionable Insights', 'Outcome']]], axis=1)\n",
    "\n",
    "# --- Save Final Data ---\n",
    "final_data.to_csv('updated_student_data_with_insights.csv', index=False)\n",
    "\n",
    "print(\"✅ Updated data with actionable insights saved successfully.\")\n"
   ]
  },
  {
   "cell_type": "code",
   "execution_count": null,
   "id": "3e1ff2fc",
   "metadata": {},
   "outputs": [],
   "source": [
    "new_data"
   ]
  },
  {
   "cell_type": "code",
   "execution_count": 5,
   "id": "43ee309b",
   "metadata": {},
   "outputs": [
    {
     "data": {
      "text/html": [
       "<div>\n",
       "<style scoped>\n",
       "    .dataframe tbody tr th:only-of-type {\n",
       "        vertical-align: middle;\n",
       "    }\n",
       "\n",
       "    .dataframe tbody tr th {\n",
       "        vertical-align: top;\n",
       "    }\n",
       "\n",
       "    .dataframe thead th {\n",
       "        text-align: right;\n",
       "    }\n",
       "</style>\n",
       "<table border=\"1\" class=\"dataframe\">\n",
       "  <thead>\n",
       "    <tr style=\"text-align: right;\">\n",
       "      <th></th>\n",
       "      <th>STUDENT_NUMBER</th>\n",
       "      <th>STUDENT_NAME</th>\n",
       "      <th>GENDER</th>\n",
       "      <th>HOME_LANGUAGE</th>\n",
       "      <th>LANGUAGE_NAME</th>\n",
       "      <th>ETHNIC_GROUP_NAME</th>\n",
       "      <th>STATS_ETHNIC_GROUP</th>\n",
       "      <th>BIRTHDATE</th>\n",
       "      <th>STUDENT_TYPE</th>\n",
       "      <th>QUALIFICATION_CODE</th>\n",
       "      <th>...</th>\n",
       "      <th>NoFeeSchool</th>\n",
       "      <th>Rural_Urban</th>\n",
       "      <th>QUINTILE</th>\n",
       "      <th>AGE</th>\n",
       "      <th>TEST_MARK_AVAILABLE</th>\n",
       "      <th>Prediction</th>\n",
       "      <th>Probability</th>\n",
       "      <th>Success_Scores</th>\n",
       "      <th>Actionable Insights</th>\n",
       "      <th>Outcome</th>\n",
       "    </tr>\n",
       "  </thead>\n",
       "  <tbody>\n",
       "    <tr>\n",
       "      <th>0</th>\n",
       "      <td>221175911</td>\n",
       "      <td>MR NK NDYEBO</td>\n",
       "      <td>M</td>\n",
       "      <td>E</td>\n",
       "      <td>ENGLISH</td>\n",
       "      <td>BLACK</td>\n",
       "      <td>AFRICAN</td>\n",
       "      <td>2001-07-17</td>\n",
       "      <td>N</td>\n",
       "      <td>W62005</td>\n",
       "      <td>...</td>\n",
       "      <td>YES</td>\n",
       "      <td>Urban</td>\n",
       "      <td>Q2</td>\n",
       "      <td>24</td>\n",
       "      <td>0</td>\n",
       "      <td>1</td>\n",
       "      <td>79.004059</td>\n",
       "      <td>High</td>\n",
       "      <td>Maintain your positive trajectory towards succ...</td>\n",
       "      <td>On Track</td>\n",
       "    </tr>\n",
       "    <tr>\n",
       "      <th>1</th>\n",
       "      <td>219334889</td>\n",
       "      <td>MISS A JEKWA</td>\n",
       "      <td>F</td>\n",
       "      <td>K</td>\n",
       "      <td>XHOSA</td>\n",
       "      <td>BLACK</td>\n",
       "      <td>AFRICAN</td>\n",
       "      <td>1997-08-05</td>\n",
       "      <td>N</td>\n",
       "      <td>W63006</td>\n",
       "      <td>...</td>\n",
       "      <td>YES</td>\n",
       "      <td>Urban</td>\n",
       "      <td>Q3</td>\n",
       "      <td>28</td>\n",
       "      <td>0</td>\n",
       "      <td>1</td>\n",
       "      <td>60.957672</td>\n",
       "      <td>Moderate</td>\n",
       "      <td>Maintain your positive trajectory towards succ...</td>\n",
       "      <td>On Track</td>\n",
       "    </tr>\n",
       "    <tr>\n",
       "      <th>2</th>\n",
       "      <td>220141037</td>\n",
       "      <td>MISS A FUDUMELE</td>\n",
       "      <td>F</td>\n",
       "      <td>K</td>\n",
       "      <td>XHOSA</td>\n",
       "      <td>BLACK</td>\n",
       "      <td>AFRICAN</td>\n",
       "      <td>2000-11-11</td>\n",
       "      <td>N</td>\n",
       "      <td>W61026</td>\n",
       "      <td>...</td>\n",
       "      <td>NaN</td>\n",
       "      <td>NaN</td>\n",
       "      <td>NaN</td>\n",
       "      <td>25</td>\n",
       "      <td>0</td>\n",
       "      <td>0</td>\n",
       "      <td>39.105537</td>\n",
       "      <td>Low</td>\n",
       "      <td>Join Academic Support Programs.</td>\n",
       "      <td>At Risk</td>\n",
       "    </tr>\n",
       "    <tr>\n",
       "      <th>3</th>\n",
       "      <td>222374217</td>\n",
       "      <td>MISS S LANGA</td>\n",
       "      <td>F</td>\n",
       "      <td>K</td>\n",
       "      <td>XHOSA</td>\n",
       "      <td>BLACK</td>\n",
       "      <td>AFRICAN</td>\n",
       "      <td>2001-11-15</td>\n",
       "      <td>N</td>\n",
       "      <td>W64005</td>\n",
       "      <td>...</td>\n",
       "      <td>YES</td>\n",
       "      <td>Rural</td>\n",
       "      <td>Q3</td>\n",
       "      <td>24</td>\n",
       "      <td>0</td>\n",
       "      <td>1</td>\n",
       "      <td>86.841049</td>\n",
       "      <td>Very High</td>\n",
       "      <td>Maintain your positive trajectory towards succ...</td>\n",
       "      <td>On Track</td>\n",
       "    </tr>\n",
       "    <tr>\n",
       "      <th>4</th>\n",
       "      <td>240507568</td>\n",
       "      <td>MR A PENDU</td>\n",
       "      <td>M</td>\n",
       "      <td>K</td>\n",
       "      <td>XHOSA</td>\n",
       "      <td>BLACK</td>\n",
       "      <td>AFRICAN</td>\n",
       "      <td>2003-01-02</td>\n",
       "      <td>N</td>\n",
       "      <td>W64021</td>\n",
       "      <td>...</td>\n",
       "      <td>YES</td>\n",
       "      <td>Rural</td>\n",
       "      <td>Q1</td>\n",
       "      <td>22</td>\n",
       "      <td>0</td>\n",
       "      <td>1</td>\n",
       "      <td>86.575127</td>\n",
       "      <td>Very High</td>\n",
       "      <td>Maintain your positive trajectory towards succ...</td>\n",
       "      <td>On Track</td>\n",
       "    </tr>\n",
       "    <tr>\n",
       "      <th>...</th>\n",
       "      <td>...</td>\n",
       "      <td>...</td>\n",
       "      <td>...</td>\n",
       "      <td>...</td>\n",
       "      <td>...</td>\n",
       "      <td>...</td>\n",
       "      <td>...</td>\n",
       "      <td>...</td>\n",
       "      <td>...</td>\n",
       "      <td>...</td>\n",
       "      <td>...</td>\n",
       "      <td>...</td>\n",
       "      <td>...</td>\n",
       "      <td>...</td>\n",
       "      <td>...</td>\n",
       "      <td>...</td>\n",
       "      <td>...</td>\n",
       "      <td>...</td>\n",
       "      <td>...</td>\n",
       "      <td>...</td>\n",
       "      <td>...</td>\n",
       "    </tr>\n",
       "    <tr>\n",
       "      <th>30426</th>\n",
       "      <td>240003985</td>\n",
       "      <td>MISS ES LWALWENI</td>\n",
       "      <td>F</td>\n",
       "      <td>K</td>\n",
       "      <td>XHOSA</td>\n",
       "      <td>BLACK</td>\n",
       "      <td>AFRICAN</td>\n",
       "      <td>2002-10-07</td>\n",
       "      <td>N</td>\n",
       "      <td>W61016</td>\n",
       "      <td>...</td>\n",
       "      <td>YES</td>\n",
       "      <td>Rural</td>\n",
       "      <td>Q2</td>\n",
       "      <td>23</td>\n",
       "      <td>0</td>\n",
       "      <td>0</td>\n",
       "      <td>37.520397</td>\n",
       "      <td>Low</td>\n",
       "      <td>Join Academic Support Programs.</td>\n",
       "      <td>At Risk</td>\n",
       "    </tr>\n",
       "    <tr>\n",
       "      <th>30427</th>\n",
       "      <td>240053052</td>\n",
       "      <td>MISS A MANONO</td>\n",
       "      <td>F</td>\n",
       "      <td>K</td>\n",
       "      <td>XHOSA</td>\n",
       "      <td>BLACK</td>\n",
       "      <td>AFRICAN</td>\n",
       "      <td>2004-11-01</td>\n",
       "      <td>N</td>\n",
       "      <td>W62011</td>\n",
       "      <td>...</td>\n",
       "      <td>YES</td>\n",
       "      <td>Rural</td>\n",
       "      <td>Q1</td>\n",
       "      <td>21</td>\n",
       "      <td>0</td>\n",
       "      <td>1</td>\n",
       "      <td>91.099556</td>\n",
       "      <td>Very High</td>\n",
       "      <td>Maintain your positive trajectory towards succ...</td>\n",
       "      <td>On Track</td>\n",
       "    </tr>\n",
       "    <tr>\n",
       "      <th>30428</th>\n",
       "      <td>240228251</td>\n",
       "      <td>MISS S Nunu</td>\n",
       "      <td>F</td>\n",
       "      <td>K</td>\n",
       "      <td>XHOSA</td>\n",
       "      <td>BLACK</td>\n",
       "      <td>AFRICAN</td>\n",
       "      <td>2004-03-27</td>\n",
       "      <td>N</td>\n",
       "      <td>W66001</td>\n",
       "      <td>...</td>\n",
       "      <td>NaN</td>\n",
       "      <td>NaN</td>\n",
       "      <td>NaN</td>\n",
       "      <td>21</td>\n",
       "      <td>0</td>\n",
       "      <td>1</td>\n",
       "      <td>60.331581</td>\n",
       "      <td>Moderate</td>\n",
       "      <td>Maintain your positive trajectory towards succ...</td>\n",
       "      <td>On Track</td>\n",
       "    </tr>\n",
       "    <tr>\n",
       "      <th>30429</th>\n",
       "      <td>230748090</td>\n",
       "      <td>MISS K JIKIJELA</td>\n",
       "      <td>F</td>\n",
       "      <td>K</td>\n",
       "      <td>XHOSA</td>\n",
       "      <td>BLACK</td>\n",
       "      <td>AFRICAN</td>\n",
       "      <td>2004-06-30</td>\n",
       "      <td>N</td>\n",
       "      <td>W62011</td>\n",
       "      <td>...</td>\n",
       "      <td>NaN</td>\n",
       "      <td>NaN</td>\n",
       "      <td>NaN</td>\n",
       "      <td>21</td>\n",
       "      <td>0</td>\n",
       "      <td>1</td>\n",
       "      <td>94.870789</td>\n",
       "      <td>Very High</td>\n",
       "      <td>Maintain your positive trajectory towards succ...</td>\n",
       "      <td>On Track</td>\n",
       "    </tr>\n",
       "    <tr>\n",
       "      <th>30430</th>\n",
       "      <td>222579269</td>\n",
       "      <td>MS A MAZONDO</td>\n",
       "      <td>F</td>\n",
       "      <td>K</td>\n",
       "      <td>XHOSA</td>\n",
       "      <td>BLACK</td>\n",
       "      <td>AFRICAN</td>\n",
       "      <td>2003-07-27</td>\n",
       "      <td>N</td>\n",
       "      <td>W63002</td>\n",
       "      <td>...</td>\n",
       "      <td>NaN</td>\n",
       "      <td>NaN</td>\n",
       "      <td>NaN</td>\n",
       "      <td>22</td>\n",
       "      <td>0</td>\n",
       "      <td>1</td>\n",
       "      <td>70.838882</td>\n",
       "      <td>Moderate</td>\n",
       "      <td>Maintain your positive trajectory towards succ...</td>\n",
       "      <td>On Track</td>\n",
       "    </tr>\n",
       "  </tbody>\n",
       "</table>\n",
       "<p>30431 rows × 61 columns</p>\n",
       "</div>"
      ],
      "text/plain": [
       "       STUDENT_NUMBER      STUDENT_NAME GENDER HOME_LANGUAGE LANGUAGE_NAME  \\\n",
       "0           221175911      MR NK NDYEBO      M             E       ENGLISH   \n",
       "1           219334889      MISS A JEKWA      F             K         XHOSA   \n",
       "2           220141037   MISS A FUDUMELE      F             K         XHOSA   \n",
       "3           222374217      MISS S LANGA      F             K         XHOSA   \n",
       "4           240507568        MR A PENDU      M             K         XHOSA   \n",
       "...               ...               ...    ...           ...           ...   \n",
       "30426       240003985  MISS ES LWALWENI      F             K         XHOSA   \n",
       "30427       240053052     MISS A MANONO      F             K         XHOSA   \n",
       "30428       240228251       MISS S Nunu      F             K         XHOSA   \n",
       "30429       230748090   MISS K JIKIJELA      F             K         XHOSA   \n",
       "30430       222579269      MS A MAZONDO      F             K         XHOSA   \n",
       "\n",
       "      ETHNIC_GROUP_NAME STATS_ETHNIC_GROUP  BIRTHDATE STUDENT_TYPE  \\\n",
       "0                 BLACK            AFRICAN 2001-07-17            N   \n",
       "1                 BLACK            AFRICAN 1997-08-05            N   \n",
       "2                 BLACK            AFRICAN 2000-11-11            N   \n",
       "3                 BLACK            AFRICAN 2001-11-15            N   \n",
       "4                 BLACK            AFRICAN 2003-01-02            N   \n",
       "...                 ...                ...        ...          ...   \n",
       "30426             BLACK            AFRICAN 2002-10-07            N   \n",
       "30427             BLACK            AFRICAN 2004-11-01            N   \n",
       "30428             BLACK            AFRICAN 2004-03-27            N   \n",
       "30429             BLACK            AFRICAN 2004-06-30            N   \n",
       "30430             BLACK            AFRICAN 2003-07-27            N   \n",
       "\n",
       "      QUALIFICATION_CODE  ... NoFeeSchool Rural_Urban QUINTILE AGE  \\\n",
       "0                 W62005  ...         YES       Urban       Q2  24   \n",
       "1                 W63006  ...         YES       Urban       Q3  28   \n",
       "2                 W61026  ...         NaN         NaN      NaN  25   \n",
       "3                 W64005  ...         YES       Rural       Q3  24   \n",
       "4                 W64021  ...         YES       Rural       Q1  22   \n",
       "...                  ...  ...         ...         ...      ...  ..   \n",
       "30426             W61016  ...         YES       Rural       Q2  23   \n",
       "30427             W62011  ...         YES       Rural       Q1  21   \n",
       "30428             W66001  ...         NaN         NaN      NaN  21   \n",
       "30429             W62011  ...         NaN         NaN      NaN  21   \n",
       "30430             W63002  ...         NaN         NaN      NaN  22   \n",
       "\n",
       "      TEST_MARK_AVAILABLE Prediction Probability  Success_Scores  \\\n",
       "0                       0          1   79.004059            High   \n",
       "1                       0          1   60.957672        Moderate   \n",
       "2                       0          0   39.105537             Low   \n",
       "3                       0          1   86.841049       Very High   \n",
       "4                       0          1   86.575127       Very High   \n",
       "...                   ...        ...         ...             ...   \n",
       "30426                   0          0   37.520397             Low   \n",
       "30427                   0          1   91.099556       Very High   \n",
       "30428                   0          1   60.331581        Moderate   \n",
       "30429                   0          1   94.870789       Very High   \n",
       "30430                   0          1   70.838882        Moderate   \n",
       "\n",
       "                                     Actionable Insights   Outcome  \n",
       "0      Maintain your positive trajectory towards succ...  On Track  \n",
       "1      Maintain your positive trajectory towards succ...  On Track  \n",
       "2                        Join Academic Support Programs.   At Risk  \n",
       "3      Maintain your positive trajectory towards succ...  On Track  \n",
       "4      Maintain your positive trajectory towards succ...  On Track  \n",
       "...                                                  ...       ...  \n",
       "30426                    Join Academic Support Programs.   At Risk  \n",
       "30427  Maintain your positive trajectory towards succ...  On Track  \n",
       "30428  Maintain your positive trajectory towards succ...  On Track  \n",
       "30429  Maintain your positive trajectory towards succ...  On Track  \n",
       "30430  Maintain your positive trajectory towards succ...  On Track  \n",
       "\n",
       "[30431 rows x 61 columns]"
      ]
     },
     "execution_count": 5,
     "metadata": {},
     "output_type": "execute_result"
    }
   ],
   "source": [
    "final_data"
   ]
  },
  {
   "cell_type": "code",
   "execution_count": 10,
   "id": "2fac0310",
   "metadata": {},
   "outputs": [
    {
     "data": {
      "image/png": "[encoded data removed]",
      "text/plain": [
       "<Figure size 1000x600 with 1 Axes>"
      ]
     },
     "metadata": {},
     "output_type": "display_data"
    }
   ],
   "source": [
    "import pandas as pd\n",
    "import matplotlib.pyplot as plt\n",
    "import seaborn as sns\n",
    "\n",
    "# Load your data with probabilities\n",
    "final_data['Outcome'] = final_data['Prediction'].apply(lambda x: 'On Track' if x == 1 else 'At Risk')\n",
    "\n",
    "# Plotting\n",
    "plt.figure(figsize=(10, 6))\n",
    "sns.histplot(data=final_data, x='Probability', hue='Outcome', bins=50, kde=False, stat=\"count\")\n",
    "\n",
    "# Add title and labels\n",
    "plt.title('Probability Distribution of Predictions')\n",
    "plt.xlabel('Probability')\n",
    "plt.ylabel('Count')\n",
    "\n",
    "# Show the plot\n",
    "plt.show()"
   ]
  },
  {
   "cell_type": "code",
   "execution_count": 11,
   "id": "fe5885a5",
   "metadata": {},
   "outputs": [
    {
     "data": {
      "text/plain": [
       "Success_Scores\n",
       "Moderate     9592\n",
       "Very High    8609\n",
       "Low          6189\n",
       "High         5593\n",
       "Very Low      448\n",
       "Name: count, dtype: int64"
      ]
     },
     "execution_count": 11,
     "metadata": {},
     "output_type": "execute_result"
    }
   ],
   "source": [
    "final_data['Success_Scores'].value_counts()"
   ]
  },
  {
   "cell_type": "code",
   "execution_count": null,
   "id": "ba64bc77",
   "metadata": {},
   "outputs": [],
   "source": []
  }
 ],
 "metadata": {
  "kernelspec": {
   "display_name": "Python 3",
   "language": "python",
   "name": "python3"
  },
  "language_info": {
   "codemirror_mode": {
    "name": "ipython",
    "version": 3
   },
   "file_extension": ".py",
   "mimetype": "text/x-python",
   "name": "python",
   "nbconvert_exporter": "python",
   "pygments_lexer": "ipython3",
   "version": "3.13.2"
  }
 },
 "nbformat": 4,
 "nbformat_minor": 5
}
