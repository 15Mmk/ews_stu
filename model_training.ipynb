{
 "cells": [
  {
   "cell_type": "markdown",
   "id": "b10b16ff",
   "metadata": {},
   "source": [
    "## Import Libraries"
   ]
  },
  {
   "cell_type": "code",
   "execution_count": 14,
   "id": "bc3b332c",
   "metadata": {},
   "outputs": [],
   "source": [
    "import pandas as pd\n",
    "import numpy as np\n",
    "from sklearn.model_selection import cross_val_score, StratifiedKFold\n",
    "from imblearn.over_sampling import SMOTE\n",
    "from imblearn.under_sampling import RandomUnderSampler\n",
    "from imblearn.pipeline import Pipeline\n",
    "from xgboost import XGBClassifier\n",
    "from sklearn.metrics import confusion_matrix, ConfusionMatrixDisplay, classification_report, roc_curve, auc\n",
    "import matplotlib.pyplot as plt\n",
    "import pickle"
   ]
  },
  {
   "cell_type": "markdown",
   "id": "37b1cf66",
   "metadata": {},
   "source": [
    "## Load Datasets"
   ]
  },
  {
   "cell_type": "code",
   "execution_count": 3,
   "id": "9e72cb6e",
   "metadata": {},
   "outputs": [],
   "source": [
    "X_train = pd.read_csv('preprocessed_data/X_train_preprocessed_scaled.csv')\n",
    "X_test = pd.read_csv('preprocessed_data/X_test_preprocessed_scaled.csv')\n",
    "y_train = pd.read_csv('preprocessed_data/y_train.csv')['SUCCESS'].values  \n",
    "y_test = pd.read_csv('preprocessed_data/y_test.csv')['SUCCESS'].values"
   ]
  },
  {
   "cell_type": "markdown",
   "id": "d627fd16",
   "metadata": {},
   "source": [
    "## Ensure Feature Consistency"
   ]
  },
  {
   "cell_type": "code",
   "execution_count": 4,
   "id": "cfa6a239",
   "metadata": {},
   "outputs": [],
   "source": [
    "common_features = X_train.columns.intersection(X_test.columns)\n",
    "X_train = X_train[common_features]\n",
    "X_test = X_test[common_features]"
   ]
  },
  {
   "cell_type": "markdown",
   "id": "2ce3c45c",
   "metadata": {},
   "source": [
    "## Handle Missing Values"
   ]
  },
  {
   "cell_type": "code",
   "execution_count": 29,
   "id": "a8025ec5",
   "metadata": {},
   "outputs": [],
   "source": [
    "X_test = X_test.drop('BIRTHDATE', axis=1)"
   ]
  },
  {
   "cell_type": "code",
   "execution_count": 30,
   "id": "d73df471",
   "metadata": {},
   "outputs": [],
   "source": [
    "X_train.fillna(X_train.mean(), inplace=True)\n",
    "X_test.fillna(X_train.mean(), inplace=True)"
   ]
  },
  {
   "cell_type": "markdown",
   "id": "a74a8816",
   "metadata": {},
   "source": [
    "## Check Class Distribution Before Resampling"
   ]
  },
  {
   "cell_type": "code",
   "execution_count": 31,
   "id": "ea3c4d43",
   "metadata": {},
   "outputs": [
    {
     "name": "stdout",
     "output_type": "stream",
     "text": [
      "Original class distribution in training data:\n",
      "1    73120\n",
      "0    21349\n",
      "Name: count, dtype: int64\n"
     ]
    }
   ],
   "source": [
    "print(\"Original class distribution in training data:\")\n",
    "print(pd.Series(y_train).value_counts())"
   ]
  },
  {
   "cell_type": "markdown",
   "id": "c55aad25",
   "metadata": {},
   "source": [
    "## Apply Class Balancing (SMOTE + Random UnderSampling)"
   ]
  },
  {
   "cell_type": "code",
   "execution_count": 32,
   "id": "1a03b353",
   "metadata": {},
   "outputs": [],
   "source": [
    "over = SMOTE(sampling_strategy=0.6, random_state=42)  # Oversample minority class to 60% of majority class\n",
    "under = RandomUnderSampler(sampling_strategy=0.8, random_state=42)  # Undersample majority to 80% of its original size\n",
    "pipeline = Pipeline(steps=[('oversample', over), ('undersample', under)])"
   ]
  },
  {
   "cell_type": "markdown",
   "id": "17e77891",
   "metadata": {},
   "source": [
    "## Apply Resampling"
   ]
  },
  {
   "cell_type": "code",
   "execution_count": 33,
   "id": "5d2d6ea8",
   "metadata": {},
   "outputs": [],
   "source": [
    "X_train_res, y_train_res = pipeline.fit_resample(X_train, y_train)"
   ]
  },
  {
   "cell_type": "markdown",
   "id": "f560577a",
   "metadata": {},
   "source": [
    "## Compute `scale_pos_weight` for XGBoost (Balances Class Weights)"
   ]
  },
  {
   "cell_type": "code",
   "execution_count": 42,
   "id": "380830bb",
   "metadata": {},
   "outputs": [],
   "source": [
    "class_counts = np.bincount(y_train_res)\n",
    "scale_pos_weight = class_counts[0] / class_counts[1] if class_counts[1] > 0 else 1.0"
   ]
  },
  {
   "cell_type": "markdown",
   "id": "71c39c56",
   "metadata": {},
   "source": [
    "## Check class distribution after resampling"
   ]
  },
  {
   "cell_type": "code",
   "execution_count": 34,
   "id": "6e0e4480",
   "metadata": {},
   "outputs": [
    {
     "name": "stdout",
     "output_type": "stream",
     "text": [
      "\n",
      "Resampled class distribution:\n",
      "1    54840\n",
      "0    43872\n",
      "Name: count, dtype: int64\n"
     ]
    }
   ],
   "source": [
    "print(\"\\nResampled class distribution:\")\n",
    "print(pd.Series(y_train_res).value_counts())"
   ]
  },
  {
   "cell_type": "markdown",
   "id": "0b24481f",
   "metadata": {},
   "source": [
    "## Initialize XGBoost Classifier"
   ]
  },
  {
   "cell_type": "code",
   "execution_count": 43,
   "id": "0c584043",
   "metadata": {},
   "outputs": [],
   "source": [
    "xgb_clf = XGBClassifier(\n",
    "    random_state=42,\n",
    "    n_estimators=400,       # Number of trees\n",
    "    learning_rate=0.05,     # Helps prevent overfitting\n",
    "    max_depth=6,            # Controls tree complexity\n",
    "    scale_pos_weight=scale_pos_weight,  # Adjusts class imbalance\n",
    "    eval_metric='logloss',\n",
    "    use_label_encoder=False,\n",
    "    n_jobs=-1\n",
    ")"
   ]
  },
  {
   "cell_type": "markdown",
   "id": "3e6d643b",
   "metadata": {},
   "source": [
    "## Initialize Random Forest Classifier"
   ]
  },
  {
   "cell_type": "code",
   "execution_count": 44,
   "id": "61944425",
   "metadata": {},
   "outputs": [],
   "source": [
    "from sklearn.ensemble import RandomForestClassifier\n",
    "\n",
    "rf_clf = RandomForestClassifier(\n",
    "    random_state=42,\n",
    "    n_estimators=400,\n",
    "    max_depth=6,\n",
    "    class_weight='balanced',  # Automatically handles imbalance\n",
    "    n_jobs=-1\n",
    ")\n"
   ]
  },
  {
   "cell_type": "markdown",
   "id": "d3f63994",
   "metadata": {},
   "source": [
    "## Perform Cross-Validation"
   ]
  },
  {
   "cell_type": "code",
   "execution_count": 46,
   "id": "3606844e",
   "metadata": {},
   "outputs": [
    {
     "name": "stdout",
     "output_type": "stream",
     "text": [
      "\n",
      "Cross-Validation Scores: [1. 1. 1. 1. 1.]\n",
      "Mean CV Accuracy: 1.0\n"
     ]
    }
   ],
   "source": [
    "skf = StratifiedKFold(n_splits=5, shuffle=True, random_state=42)\n",
    "cv_scores = cross_val_score(rf_clf, X_train_res, y_train_res, cv=skf, scoring='accuracy', n_jobs=-1)\n",
    "\n",
    "print(\"\\nCross-Validation Scores:\", cv_scores)\n",
    "print(\"Mean CV Accuracy:\", np.mean(cv_scores))"
   ]
  }
 ],
 "metadata": {
  "kernelspec": {
   "display_name": "base",
   "language": "python",
   "name": "python3"
  },
  "language_info": {
   "codemirror_mode": {
    "name": "ipython",
    "version": 3
   },
   "file_extension": ".py",
   "mimetype": "text/x-python",
   "name": "python",
   "nbconvert_exporter": "python",
   "pygments_lexer": "ipython3",
   "version": "3.12.7"
  }
 },
 "nbformat": 4,
 "nbformat_minor": 5
}
